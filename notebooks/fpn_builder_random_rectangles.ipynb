{
  "nbformat": 4,
  "nbformat_minor": 0,
  "metadata": {
    "kernelspec": {
      "display_name": "tensorflow-2.0",
      "language": "python",
      "name": "tensorflow-2.0"
    },
    "language_info": {
      "codemirror_mode": {
        "name": "ipython",
        "version": 3
      },
      "file_extension": ".py",
      "mimetype": "text/x-python",
      "name": "python",
      "nbconvert_exporter": "python",
      "pygments_lexer": "ipython3",
      "version": "3.6.6"
    },
    "colab": {
      "name": "fpn_builder_random_rectangles.ipynb",
      "provenance": [],
      "include_colab_link": true
    },
    "accelerator": "GPU"
  },
  "cells": [
    {
      "cell_type": "markdown",
      "metadata": {
        "id": "view-in-github",
        "colab_type": "text"
      },
      "source": [
        "<a href=\"https://colab.research.google.com/github/kmkolasinski/keras_detection/blob/master/notebooks/fpn_builder_random_rectangles.ipynb\" target=\"_parent\"><img src=\"https://colab.research.google.com/assets/colab-badge.svg\" alt=\"Open In Colab\"/></a>"
      ]
    },
    {
      "cell_type": "code",
      "metadata": {
        "id": "wMqSml3iQLi6",
        "colab_type": "code",
        "colab": {
          "base_uri": "https://localhost:8080/",
          "height": 819
        },
        "outputId": "7bd73cd5-0005-4db3-ad49-4eec41c7fdfd"
      },
      "source": [
        "! pip install -q --extra-index-url=https://test.pypi.org/simple/ tensorflow-model-optimization==0.3.0.dev6\n",
        "! pip install --upgrade git+https://github.com/kmkolasinski/keras_detection.git"
      ],
      "execution_count": 1,
      "outputs": [
        {
          "output_type": "stream",
          "text": [
            "Collecting git+https://github.com/kmkolasinski/keras_detection.git\n",
            "  Cloning https://github.com/kmkolasinski/keras_detection.git to /tmp/pip-req-build-hjf_d8xz\n",
            "  Running command git clone -q https://github.com/kmkolasinski/keras_detection.git /tmp/pip-req-build-hjf_d8xz\n",
            "Requirement already satisfied, skipping upgrade: numba==0.48.0 in /usr/local/lib/python3.6/dist-packages (from keras-detection==0.1) (0.48.0)\n",
            "Requirement already satisfied, skipping upgrade: numpy==1.16.4 in /usr/local/lib/python3.6/dist-packages (from keras-detection==0.1) (1.16.4)\n",
            "Requirement already satisfied, skipping upgrade: tsalib==0.2.1 in /usr/local/lib/python3.6/dist-packages (from keras-detection==0.1) (0.2.1)\n",
            "Requirement already satisfied, skipping upgrade: matplotlib>=3.1.* in /usr/local/lib/python3.6/dist-packages (from keras-detection==0.1) (3.2.1)\n",
            "Requirement already satisfied, skipping upgrade: image-classifiers==1.0.0 in /usr/local/lib/python3.6/dist-packages (from keras-detection==0.1) (1.0.0)\n",
            "Requirement already satisfied, skipping upgrade: tqdm>=4.43.0 in /usr/local/lib/python3.6/dist-packages (from keras-detection==0.1) (4.45.0)\n",
            "Requirement already satisfied, skipping upgrade: tensorflow-addons>=0.8.* in /usr/local/lib/python3.6/dist-packages (from keras-detection==0.1) (0.8.3)\n",
            "Requirement already satisfied, skipping upgrade: imgaug>=0.4 in /usr/local/lib/python3.6/dist-packages (from keras-detection==0.1) (0.4.0)\n",
            "Requirement already satisfied, skipping upgrade: cached_property>=1.5 in /usr/local/lib/python3.6/dist-packages (from keras-detection==0.1) (1.5.1)\n",
            "Requirement already satisfied, skipping upgrade: llvmlite<0.32.0,>=0.31.0dev0 in /usr/local/lib/python3.6/dist-packages (from numba==0.48.0->keras-detection==0.1) (0.31.0)\n",
            "Requirement already satisfied, skipping upgrade: setuptools in /usr/local/lib/python3.6/dist-packages (from numba==0.48.0->keras-detection==0.1) (46.1.3)\n",
            "Requirement already satisfied, skipping upgrade: sympy in /usr/local/lib/python3.6/dist-packages (from tsalib==0.2.1->keras-detection==0.1) (1.1.1)\n",
            "Requirement already satisfied, skipping upgrade: pyparsing!=2.0.4,!=2.1.2,!=2.1.6,>=2.0.1 in /usr/local/lib/python3.6/dist-packages (from matplotlib>=3.1.*->keras-detection==0.1) (2.4.7)\n",
            "Requirement already satisfied, skipping upgrade: kiwisolver>=1.0.1 in /usr/local/lib/python3.6/dist-packages (from matplotlib>=3.1.*->keras-detection==0.1) (1.2.0)\n",
            "Requirement already satisfied, skipping upgrade: cycler>=0.10 in /usr/local/lib/python3.6/dist-packages (from matplotlib>=3.1.*->keras-detection==0.1) (0.10.0)\n",
            "Requirement already satisfied, skipping upgrade: python-dateutil>=2.1 in /usr/local/lib/python3.6/dist-packages (from matplotlib>=3.1.*->keras-detection==0.1) (2.8.1)\n",
            "Requirement already satisfied, skipping upgrade: keras-applications<=1.0.8,>=1.0.7 in /usr/local/lib/python3.6/dist-packages (from image-classifiers==1.0.0->keras-detection==0.1) (1.0.8)\n",
            "Requirement already satisfied, skipping upgrade: typeguard in /usr/local/lib/python3.6/dist-packages (from tensorflow-addons>=0.8.*->keras-detection==0.1) (2.7.1)\n",
            "Requirement already satisfied, skipping upgrade: imageio in /usr/local/lib/python3.6/dist-packages (from imgaug>=0.4->keras-detection==0.1) (2.4.1)\n",
            "Requirement already satisfied, skipping upgrade: six in /usr/local/lib/python3.6/dist-packages (from imgaug>=0.4->keras-detection==0.1) (1.12.0)\n",
            "Requirement already satisfied, skipping upgrade: scikit-image>=0.14.2 in /usr/local/lib/python3.6/dist-packages (from imgaug>=0.4->keras-detection==0.1) (0.16.2)\n",
            "Requirement already satisfied, skipping upgrade: Pillow in /usr/local/lib/python3.6/dist-packages (from imgaug>=0.4->keras-detection==0.1) (7.0.0)\n",
            "Requirement already satisfied, skipping upgrade: opencv-python in /usr/local/lib/python3.6/dist-packages (from imgaug>=0.4->keras-detection==0.1) (4.1.2.30)\n",
            "Requirement already satisfied, skipping upgrade: Shapely in /usr/local/lib/python3.6/dist-packages (from imgaug>=0.4->keras-detection==0.1) (1.7.0)\n",
            "Requirement already satisfied, skipping upgrade: scipy in /usr/local/lib/python3.6/dist-packages (from imgaug>=0.4->keras-detection==0.1) (1.4.1)\n",
            "Requirement already satisfied, skipping upgrade: mpmath>=0.19 in /usr/local/lib/python3.6/dist-packages (from sympy->tsalib==0.2.1->keras-detection==0.1) (1.1.0)\n",
            "Requirement already satisfied, skipping upgrade: h5py in /usr/local/lib/python3.6/dist-packages (from keras-applications<=1.0.8,>=1.0.7->image-classifiers==1.0.0->keras-detection==0.1) (2.10.0)\n",
            "Requirement already satisfied, skipping upgrade: networkx>=2.0 in /usr/local/lib/python3.6/dist-packages (from scikit-image>=0.14.2->imgaug>=0.4->keras-detection==0.1) (2.4)\n",
            "Requirement already satisfied, skipping upgrade: PyWavelets>=0.4.0 in /usr/local/lib/python3.6/dist-packages (from scikit-image>=0.14.2->imgaug>=0.4->keras-detection==0.1) (1.1.1)\n",
            "Requirement already satisfied, skipping upgrade: decorator>=4.3.0 in /usr/local/lib/python3.6/dist-packages (from networkx>=2.0->scikit-image>=0.14.2->imgaug>=0.4->keras-detection==0.1) (4.4.2)\n",
            "Building wheels for collected packages: keras-detection\n",
            "  Building wheel for keras-detection (setup.py) ... \u001b[?25l\u001b[?25hdone\n",
            "  Created wheel for keras-detection: filename=keras_detection-0.1-cp36-none-any.whl size=71903 sha256=3b2da3f5f5df7962716ca793e94a7006f2bc48198b48916971a481392efcd24a\n",
            "  Stored in directory: /tmp/pip-ephem-wheel-cache-rc201bn8/wheels/9c/23/23/2d3299a84b3beda7addbe5f17af1aa74b0e15fd87214803132\n",
            "Successfully built keras-detection\n",
            "Installing collected packages: keras-detection\n",
            "  Found existing installation: keras-detection 0.1\n",
            "    Uninstalling keras-detection-0.1:\n",
            "      Successfully uninstalled keras-detection-0.1\n",
            "Successfully installed keras-detection-0.1\n"
          ],
          "name": "stdout"
        }
      ]
    },
    {
      "cell_type": "code",
      "metadata": {
        "id": "sEPgqMM5QI7p",
        "colab_type": "code",
        "colab": {}
      },
      "source": [
        "import tensorflow as tf\n",
        "import numpy as np\n",
        "import matplotlib.pyplot as plt\n",
        "from keras_detection.models.box_detector import BoxDetectionOutput\n",
        "import keras_detection.datasets.datasets_ops as datasets_ops\n",
        "import keras_detection.datasets.random_rectangles as random_rects\n",
        "from keras_detection import ImageData"
      ],
      "execution_count": 0,
      "outputs": []
    },
    {
      "cell_type": "code",
      "metadata": {
        "id": "p6e7ck4eQI7x",
        "colab_type": "code",
        "colab": {}
      },
      "source": [
        "keras = tf.keras"
      ],
      "execution_count": 0,
      "outputs": []
    },
    {
      "cell_type": "markdown",
      "metadata": {
        "id": "Py-LndecQ1gK",
        "colab_type": "text"
      },
      "source": [
        "Random rectangles detection dataset"
      ]
    },
    {
      "cell_type": "code",
      "metadata": {
        "id": "zbgK5q_UQI72",
        "colab_type": "code",
        "colab": {
          "base_uri": "https://localhost:8080/",
          "height": 55
        },
        "outputId": "94900f77-4bc2-4caa-d9b4-753a109a9938"
      },
      "source": [
        "dataset = datasets_ops.from_numpy_generator(\n",
        "    random_rects.create_random_rectangles_dataset_generator(min_max_num_boxes=(5, 20))\n",
        ")\n",
        "dataset"
      ],
      "execution_count": 4,
      "outputs": [
        {
          "output_type": "execute_result",
          "data": {
            "text/plain": [
              "<FlatMapDataset shapes: {features: {image: (None, None, 3)}, labels: {boxes: (None, 4), labels: (None,), weights: (None,)}}, types: {features: {image: tf.uint8}, labels: {boxes: tf.float32, labels: tf.int64, weights: tf.float32}}>"
            ]
          },
          "metadata": {
            "tags": []
          },
          "execution_count": 4
        }
      ]
    },
    {
      "cell_type": "code",
      "metadata": {
        "id": "ZPB-A2kFQI76",
        "colab_type": "code",
        "colab": {}
      },
      "source": [
        "# Benchmark dataset sampling\n",
        "# %timeit next(iter(dataset))"
      ],
      "execution_count": 0,
      "outputs": []
    },
    {
      "cell_type": "code",
      "metadata": {
        "id": "AcyESwb0QI7_",
        "colab_type": "code",
        "colab": {
          "base_uri": "https://localhost:8080/",
          "height": 449
        },
        "outputId": "c3448419-1925-4016-8943-adaab595f4da"
      },
      "source": [
        "image_data = ImageData.from_dict(next(iter(dataset)))\n",
        "image_frame_data = BoxDetectionOutput.from_tf_boxes(\n",
        "    boxes=image_data.labels.boxes.numpy(),\n",
        "    labels=image_data.labels.labels.numpy()\n",
        ")\n",
        "image_frame_data.draw(image_data.features.image.numpy())"
      ],
      "execution_count": 5,
      "outputs": [
        {
          "output_type": "execute_result",
          "data": {
            "image/png": "[encoded data removed]",
            "text/plain": [
              "<PIL.PngImagePlugin.PngImageFile image mode=RGBA size=432x432 at 0x7FD38EA2E5C0>"
            ]
          },
          "metadata": {
            "tags": []
          },
          "execution_count": 5
        }
      ]
    },
    {
      "cell_type": "markdown",
      "metadata": {
        "id": "5ZgNu-4YREM5",
        "colab_type": "text"
      },
      "source": [
        "# Build dataset (batched) and FPN detection model "
      ]
    },
    {
      "cell_type": "code",
      "metadata": {
        "id": "mGmNgqmKQI8D",
        "colab_type": "code",
        "colab": {}
      },
      "source": [
        "import keras_detection.datasets.datasets_ops as datasets_ops\n",
        "\n",
        "def aug_fn(image_data: ImageData) -> ImageData:\n",
        "    image = tf.cast(image_data.features.image, tf.float32)\n",
        "    image = tf.image.random_brightness(image, max_delta=1.2)\n",
        "    return image_data.replace_image(image)\n",
        "\n",
        "\n",
        "image_dim = 224\n",
        "batch_size = 32\n",
        "shuffle_buffer_size = 1 # we don't have to shuffle random rectangles dataset\n",
        "num_classes = 9 # random rectangles have 9 classes\n",
        "num_parallel_calls = tf.data.experimental.AUTOTUNE"
      ],
      "execution_count": 0,
      "outputs": []
    },
    {
      "cell_type": "code",
      "metadata": {
        "id": "DiCo_MkkQI8H",
        "colab_type": "code",
        "colab": {}
      },
      "source": [
        "dataset = datasets_ops.from_numpy_generator(\n",
        "    random_rects.create_random_rectangles_dataset_generator(image_size=(image_dim, image_dim), min_max_num_boxes=(5, 20))\n",
        ")\n",
        "\n",
        "train_dataset = datasets_ops.prepare_dataset(\n",
        "    dataset,\n",
        "    model_image_size=(image_dim, image_dim),\n",
        "    augmentation_fn=aug_fn,\n",
        "    num_epochs=-1,\n",
        "    batch_size=batch_size ,\n",
        "    shuffle_buffer_size=shuffle_buffer_size,\n",
        "    prefetch_buffer_size=4,\n",
        "    num_parallel_calls=num_parallel_calls\n",
        ")"
      ],
      "execution_count": 0,
      "outputs": []
    },
    {
      "cell_type": "code",
      "metadata": {
        "id": "uKSDh_zcQI8L",
        "colab_type": "code",
        "colab": {}
      },
      "source": [
        "# %timeit next(iter(train_dataset))"
      ],
      "execution_count": 0,
      "outputs": []
    },
    {
      "cell_type": "markdown",
      "metadata": {
        "id": "OAFwignURQ_E",
        "colab_type": "text"
      },
      "source": [
        "# Build model builder "
      ]
    },
    {
      "cell_type": "code",
      "metadata": {
        "id": "M2EPrlGcQI8P",
        "colab_type": "code",
        "colab": {}
      },
      "source": [
        "from keras_detection import FPNBuilder\n",
        "from keras_detection.tasks import standard_tasks\n",
        "from keras_detection.backbones import resnet\n",
        "from keras_detection.utils import plotting\n",
        "\n",
        "\n",
        "backbone = resnet.ResNetBackbone(\n",
        "    input_shape=(image_dim, image_dim, 3),\n",
        "    units_per_block=(1, 1, 1),\n",
        "    num_last_blocks=2, # number of feature pyramids\n",
        ")\n",
        "\n",
        "# Setting task quantizable to False will make that only the resnet backbone will be quantized\n",
        "# other layers (tasks (heads) layers) will be trained in full precision.  \n",
        "\n",
        "tasks = [\n",
        "    # predicts objectnes score for each anchor\n",
        "    standard_tasks.get_objectness_task(label_smoothing=0.02, obj_class=\"center_ignore_margin\", quantizable=False),\n",
        "    # predicts [height, with, y_center, x_center] location of the box\n",
        "    standard_tasks.get_box_shape_task(\"box_shape\", quantizable=False),\n",
        "    # predicts [num_classes] for each anchor (focal loss is not supported yet)\n",
        "    standard_tasks.get_multiclass_task(num_classes, fl_gamma=0.0, label_smoothing=0, activation='softmax', quantizable=False),\n",
        "]\n",
        "\n",
        "builder = FPNBuilder(backbone=backbone, tasks=tasks)"
      ],
      "execution_count": 0,
      "outputs": []
    },
    {
      "cell_type": "code",
      "metadata": {
        "id": "v4fTRqPhQI8T",
        "colab_type": "code",
        "colab": {
          "base_uri": "https://localhost:8080/",
          "height": 108
        },
        "outputId": "2c01f69a-7e4d-4c93-889e-3373ac323c32"
      },
      "source": [
        "model = builder.build()"
      ],
      "execution_count": 37,
      "outputs": [
        {
          "output_type": "stream",
          "text": [
            "INFO:tensorflow:Input image: (None, 224, 224, 3)\n",
            "INFO:tensorflow:Processing backbone: <keras_detection.backbones.resnet.ResNetBackbone object at 0x7fd38a677b00>\n",
            "INFO:tensorflow:Processing feature maps for tasks: ['objectness', 'box_shape', 'classes']\n",
            "INFO:tensorflow: Processing feature map (fm28x28)\n",
            "INFO:tensorflow: Processing feature map (fm14x14)\n"
          ],
          "name": "stderr"
        }
      ]
    },
    {
      "cell_type": "code",
      "metadata": {
        "id": "LbYP0SAjQI8a",
        "colab_type": "code",
        "colab": {
          "base_uri": "https://localhost:8080/",
          "height": 708
        },
        "outputId": "6b7f18ff-d1d6-4717-a61a-d7a298284e18"
      },
      "source": [
        "model.summary()"
      ],
      "execution_count": 12,
      "outputs": [
        {
          "output_type": "stream",
          "text": [
            "Model: \"model_1\"\n",
            "__________________________________________________________________________________________________\n",
            "Layer (type)                    Output Shape         Param #     Connected to                     \n",
            "==================================================================================================\n",
            "image (InputLayer)              [(None, 224, 224, 3) 0                                            \n",
            "__________________________________________________________________________________________________\n",
            "tf_op_layer_RealDiv (TensorFlow [(None, 224, 224, 3) 0           image[0][0]                      \n",
            "__________________________________________________________________________________________________\n",
            "model (Model)                   [(None, 56, 56, 64), 1236178     tf_op_layer_RealDiv[0][0]        \n",
            "__________________________________________________________________________________________________\n",
            "head/fm28x28/fm28x28/objectness (None, 28, 28, 1)    74113       model[1][1]                      \n",
            "__________________________________________________________________________________________________\n",
            "head/fm28x28/fm28x28/box_shape  (None, 28, 28, 4)    74308       model[1][1]                      \n",
            "__________________________________________________________________________________________________\n",
            "head/fm28x28/fm28x28/classes (M (None, 28, 28, 10)   74698       model[1][1]                      \n",
            "__________________________________________________________________________________________________\n",
            "head/fm14x14/fm14x14/objectness (None, 14, 14, 1)    147841      model[1][2]                      \n",
            "__________________________________________________________________________________________________\n",
            "head/fm14x14/fm14x14/box_shape  (None, 14, 14, 4)    148036      model[1][2]                      \n",
            "__________________________________________________________________________________________________\n",
            "head/fm14x14/fm14x14/classes (M (None, 14, 14, 10)   148426      model[1][2]                      \n",
            "__________________________________________________________________________________________________\n",
            "fm28x28/objectness (Activation) (None, 28, 28, 1)    0           head/fm28x28/fm28x28/objectness[1\n",
            "__________________________________________________________________________________________________\n",
            "fm28x28/box_shape (Activation)  (None, 28, 28, 4)    0           head/fm28x28/fm28x28/box_shape[1]\n",
            "__________________________________________________________________________________________________\n",
            "fm28x28/classes (Softmax)       (None, 28, 28, 10)   0           head/fm28x28/fm28x28/classes[1][0\n",
            "__________________________________________________________________________________________________\n",
            "fm14x14/objectness (Activation) (None, 14, 14, 1)    0           head/fm14x14/fm14x14/objectness[1\n",
            "__________________________________________________________________________________________________\n",
            "fm14x14/box_shape (Activation)  (None, 14, 14, 4)    0           head/fm14x14/fm14x14/box_shape[1]\n",
            "__________________________________________________________________________________________________\n",
            "fm14x14/classes (Softmax)       (None, 14, 14, 10)   0           head/fm14x14/fm14x14/classes[1][0\n",
            "==================================================================================================\n",
            "Total params: 1,903,600\n",
            "Trainable params: 1,901,802\n",
            "Non-trainable params: 1,798\n",
            "__________________________________________________________________________________________________\n"
          ],
          "name": "stdout"
        }
      ]
    },
    {
      "cell_type": "code",
      "metadata": {
        "id": "I6Rxw2nsRcG6",
        "colab_type": "code",
        "colab": {}
      },
      "source": [
        "# check resnet backbone\n",
        "# model.layers[2].summary()"
      ],
      "execution_count": 0,
      "outputs": []
    },
    {
      "cell_type": "markdown",
      "metadata": {
        "id": "oFhLzFJrQI8e",
        "colab_type": "text"
      },
      "source": [
        "# Training model"
      ]
    },
    {
      "cell_type": "code",
      "metadata": {
        "id": "KKiRhn_bQI8g",
        "colab_type": "code",
        "colab": {}
      },
      "source": [
        "prepared_train_dataset = train_dataset.map(builder.get_build_training_targets_fn())"
      ],
      "execution_count": 0,
      "outputs": []
    },
    {
      "cell_type": "code",
      "metadata": {
        "id": "GQQrXV5xQI8j",
        "colab_type": "code",
        "colab": {
          "base_uri": "https://localhost:8080/",
          "height": 55
        },
        "outputId": "17ac13c1-4e93-4f1e-812a-1196deae2c9c"
      },
      "source": [
        "prepared_train_dataset"
      ],
      "execution_count": 19,
      "outputs": [
        {
          "output_type": "execute_result",
          "data": {
            "text/plain": [
              "<MapDataset shapes: ({image: (32, 224, 224, 3)}, {fm28x28/objectness: (32, 28, 28, 2), fm28x28/box_shape: (32, 28, 28, 5), fm28x28/classes: (32, 28, 28, 11), fm14x14/objectness: (32, 14, 14, 2), fm14x14/box_shape: (32, 14, 14, 5), fm14x14/classes: (32, 14, 14, 11)}), types: ({image: tf.float32}, {fm28x28/objectness: tf.float32, fm28x28/box_shape: tf.float32, fm28x28/classes: tf.float32, fm14x14/objectness: tf.float32, fm14x14/box_shape: tf.float32, fm14x14/classes: tf.float32})>"
            ]
          },
          "metadata": {
            "tags": []
          },
          "execution_count": 19
        }
      ]
    },
    {
      "cell_type": "code",
      "metadata": {
        "id": "Y36jhHVaQI8m",
        "colab_type": "code",
        "colab": {}
      },
      "source": [
        "features, labels = next(iter(prepared_train_dataset))"
      ],
      "execution_count": 0,
      "outputs": []
    },
    {
      "cell_type": "markdown",
      "metadata": {
        "id": "oN-Sy0eZRzsX",
        "colab_type": "text"
      },
      "source": [
        "Validating targets: objectness, box prediction and class predictions heads"
      ]
    },
    {
      "cell_type": "code",
      "metadata": {
        "id": "dNuwcP4OQI8q",
        "colab_type": "code",
        "colab": {
          "base_uri": "https://localhost:8080/",
          "height": 377
        },
        "outputId": "2bfb2d6a-9459-44d6-d3f6-a9c9b34b822e"
      },
      "source": [
        "fm = \"fm28x28\"\n",
        "\n",
        "targets = [labels[n][..., :-1] for n in builder.get_outputs_names()]\n",
        "targets = builder.predictions_to_dict(targets, postprocess=True)\n",
        "\n",
        "idx = 0\n",
        "target=dict(\n",
        "    objectness=targets[f'{fm}/objectness'][idx],\n",
        "    boxes_shape_map=targets[f'{fm}/box_shape'][idx],\n",
        "    classes_map=targets[f'{fm}/classes'][idx],\n",
        ")\n",
        "\n",
        "render = plotting.draw_compares(    \n",
        "    target=target,\n",
        "    predicted=None,\n",
        "    all_targets=True,\n",
        "    draw_fns=[\n",
        "        plotting.draw_boxes, \n",
        "        plotting.draw_classes_map,\n",
        "        plotting.draw_objectness_map,\n",
        "        plotting.draw_classes_max_score_map,\n",
        "    ],\n",
        "    image=features['image'][idx] / 255,\n",
        "    score_threshold=0.2, \n",
        ")\n",
        "render"
      ],
      "execution_count": 22,
      "outputs": [
        {
          "output_type": "execute_result",
          "data": {
            "image/png": "[encoded data removed]",
            "text/plain": [
              "<PIL.Image.Image image mode=RGBA size=1440x360 at 0x7FD3E01EAA20>"
            ]
          },
          "metadata": {
            "tags": []
          },
          "execution_count": 22
        }
      ]
    },
    {
      "cell_type": "markdown",
      "metadata": {
        "id": "aU89KJG2R82K",
        "colab_type": "text"
      },
      "source": [
        "Training standard detection model "
      ]
    },
    {
      "cell_type": "code",
      "metadata": {
        "id": "Hwwnj604QI8t",
        "colab_type": "code",
        "colab": {}
      },
      "source": [
        "import keras_detection.models.utils as kd_utils\n",
        "\n",
        "l2_reg_fn = kd_utils.get_l2_loss_fn(l2_reg=1e-5, model=model)\n",
        "model.add_loss(l2_reg_fn)"
      ],
      "execution_count": 0,
      "outputs": []
    },
    {
      "cell_type": "code",
      "metadata": {
        "id": "IzLfJ2dsQI8x",
        "colab_type": "code",
        "colab": {
          "base_uri": "https://localhost:8080/",
          "height": 237
        },
        "outputId": "fe8a76bd-1768-4617-90aa-fcbe3fe60cc7"
      },
      "source": [
        "optimizer = keras.optimizers.Adam(learning_rate=0.001, beta_2=0.995)\n",
        "model.compile(optimizer, **builder.get_model_compile_args())\n",
        "model.fit(prepared_train_dataset, epochs=5, steps_per_epoch=500)"
      ],
      "execution_count": 26,
      "outputs": [
        {
          "output_type": "stream",
          "text": [
            "Epoch 1/5\n",
            "500/500 [==============================] - 95s 191ms/step - loss: 0.5757 - fm28x28/objectness_loss: 0.0283 - fm28x28/box_shape_loss: 0.0090 - fm28x28/classes_loss: 0.0277 - fm14x14/objectness_loss: 0.0470 - fm14x14/box_shape_loss: 0.0227 - fm14x14/classes_loss: 0.0714 - fm28x28/objectness_ObjectnessPrecisionAT20pc: 0.1823 - fm28x28/objectness_ObjectnessRecallAT20pc: 0.9665 - fm28x28/objectness_ObjectnessPositivesMeanScore: 0.9205 - fm28x28/objectness_ObjectnessNegativesMeanScore: 0.0571 - fm28x28/classes_MulticlassAccuracyMetric: 0.8853 - fm14x14/objectness_ObjectnessPrecisionAT20pc: 0.2149 - fm14x14/objectness_ObjectnessRecallAT20pc: 0.9885 - fm14x14/objectness_ObjectnessPositivesMeanScore: 0.9602 - fm14x14/objectness_ObjectnessNegativesMeanScore: 0.1928 - fm14x14/classes_MulticlassAccuracyMetric: 0.8705\n",
            "Epoch 2/5\n",
            "500/500 [==============================] - 95s 191ms/step - loss: 0.4138 - fm28x28/objectness_loss: 0.0185 - fm28x28/box_shape_loss: 0.0064 - fm28x28/classes_loss: 0.0148 - fm14x14/objectness_loss: 0.0442 - fm14x14/box_shape_loss: 0.0153 - fm14x14/classes_loss: 0.0417 - fm28x28/objectness_ObjectnessPrecisionAT20pc: 0.2077 - fm28x28/objectness_ObjectnessRecallAT20pc: 0.9715 - fm28x28/objectness_ObjectnessPositivesMeanScore: 0.9361 - fm28x28/objectness_ObjectnessNegativesMeanScore: 0.0457 - fm28x28/classes_MulticlassAccuracyMetric: 0.9375 - fm14x14/objectness_ObjectnessPrecisionAT20pc: 0.2256 - fm14x14/objectness_ObjectnessRecallAT20pc: 0.9900 - fm14x14/objectness_ObjectnessPositivesMeanScore: 0.9625 - fm14x14/objectness_ObjectnessNegativesMeanScore: 0.1792 - fm14x14/classes_MulticlassAccuracyMetric: 0.9260\n",
            "Epoch 3/5\n",
            "500/500 [==============================] - 95s 191ms/step - loss: 0.3696 - fm28x28/objectness_loss: 0.0178 - fm28x28/box_shape_loss: 0.0055 - fm28x28/classes_loss: 0.0132 - fm14x14/objectness_loss: 0.0439 - fm14x14/box_shape_loss: 0.0130 - fm14x14/classes_loss: 0.0385 - fm28x28/objectness_ObjectnessPrecisionAT20pc: 0.2199 - fm28x28/objectness_ObjectnessRecallAT20pc: 0.9715 - fm28x28/objectness_ObjectnessPositivesMeanScore: 0.9388 - fm28x28/objectness_ObjectnessNegativesMeanScore: 0.0431 - fm28x28/classes_MulticlassAccuracyMetric: 0.9433 - fm14x14/objectness_ObjectnessPrecisionAT20pc: 0.2313 - fm14x14/objectness_ObjectnessRecallAT20pc: 0.9904 - fm14x14/objectness_ObjectnessPositivesMeanScore: 0.9629 - fm14x14/objectness_ObjectnessNegativesMeanScore: 0.1704 - fm14x14/classes_MulticlassAccuracyMetric: 0.9309\n",
            "Epoch 4/5\n",
            "500/500 [==============================] - 95s 191ms/step - loss: 0.3628 - fm28x28/objectness_loss: 0.0177 - fm28x28/box_shape_loss: 0.0054 - fm28x28/classes_loss: 0.0129 - fm14x14/objectness_loss: 0.0437 - fm14x14/box_shape_loss: 0.0127 - fm14x14/classes_loss: 0.0406 - fm28x28/objectness_ObjectnessPrecisionAT20pc: 0.2237 - fm28x28/objectness_ObjectnessRecallAT20pc: 0.9712 - fm28x28/objectness_ObjectnessPositivesMeanScore: 0.9380 - fm28x28/objectness_ObjectnessNegativesMeanScore: 0.0420 - fm28x28/classes_MulticlassAccuracyMetric: 0.9438 - fm14x14/objectness_ObjectnessPrecisionAT20pc: 0.2390 - fm14x14/objectness_ObjectnessRecallAT20pc: 0.9900 - fm14x14/objectness_ObjectnessPositivesMeanScore: 0.9628 - fm14x14/objectness_ObjectnessNegativesMeanScore: 0.1632 - fm14x14/classes_MulticlassAccuracyMetric: 0.9275\n",
            "Epoch 5/5\n",
            "500/500 [==============================] - 95s 190ms/step - loss: 0.3717 - fm28x28/objectness_loss: 0.0180 - fm28x28/box_shape_loss: 0.0055 - fm28x28/classes_loss: 0.0135 - fm14x14/objectness_loss: 0.0440 - fm14x14/box_shape_loss: 0.0128 - fm14x14/classes_loss: 0.0430 - fm28x28/objectness_ObjectnessPrecisionAT20pc: 0.2240 - fm28x28/objectness_ObjectnessRecallAT20pc: 0.9710 - fm28x28/objectness_ObjectnessPositivesMeanScore: 0.9375 - fm28x28/objectness_ObjectnessNegativesMeanScore: 0.0419 - fm28x28/classes_MulticlassAccuracyMetric: 0.9420 - fm14x14/objectness_ObjectnessPrecisionAT20pc: 0.2481 - fm14x14/objectness_ObjectnessRecallAT20pc: 0.9900 - fm14x14/objectness_ObjectnessPositivesMeanScore: 0.9628 - fm14x14/objectness_ObjectnessNegativesMeanScore: 0.1551 - fm14x14/classes_MulticlassAccuracyMetric: 0.9251\n"
          ],
          "name": "stdout"
        },
        {
          "output_type": "execute_result",
          "data": {
            "text/plain": [
              "<tensorflow.python.keras.callbacks.History at 0x7fd3e80563c8>"
            ]
          },
          "metadata": {
            "tags": []
          },
          "execution_count": 26
        }
      ]
    },
    {
      "cell_type": "code",
      "metadata": {
        "id": "Z0EpQLrIQI81",
        "colab_type": "code",
        "colab": {}
      },
      "source": [
        "!mkdir --parents models\n",
        "model.save_weights(\"models/non-quantized-model.h5\")"
      ],
      "execution_count": 0,
      "outputs": []
    },
    {
      "cell_type": "code",
      "metadata": {
        "id": "8gHbMdIoTEdd",
        "colab_type": "code",
        "colab": {}
      },
      "source": [
        "model.load_weights(\"models/non-quantized-model.h5\")"
      ],
      "execution_count": 0,
      "outputs": []
    },
    {
      "cell_type": "markdown",
      "metadata": {
        "id": "D8x6WNeFS_Rv",
        "colab_type": "text"
      },
      "source": [
        "# Test trained model"
      ]
    },
    {
      "cell_type": "code",
      "metadata": {
        "id": "TuCz3T8VS0Uf",
        "colab_type": "code",
        "colab": {}
      },
      "source": [
        "def draw_predictions(model, features, labels, idx = 0, fm = \"fm28x28\"):\n",
        "  \n",
        "  predictions = model.predict(features)\n",
        "  predictions = builder.predictions_to_dict(predictions, postprocess=True)\n",
        "\n",
        "  \n",
        "  targets = [labels[n][..., :-1] for n in builder.get_outputs_names()]\n",
        "  targets = builder.predictions_to_dict(targets, postprocess=True)\n",
        "\n",
        "  target=dict(\n",
        "      objectness=targets[f'{fm}/objectness'][idx],\n",
        "      boxes_shape_map=targets[f'{fm}/box_shape'][idx],\n",
        "      classes_map=targets[f'{fm}/classes'][idx],\n",
        "  )\n",
        "\n",
        "  predicted=dict(\n",
        "      objectness=predictions[f'{fm}/objectness'][idx],\n",
        "      boxes_shape_map=predictions[f'{fm}/box_shape'][idx],\n",
        "      classes_map=predictions[f'{fm}/classes'][idx],\n",
        "  )\n",
        "\n",
        "  render = plotting.draw_compares(    \n",
        "      target=target,\n",
        "      predicted=predicted,\n",
        "      draw_fns=[\n",
        "          plotting.draw_boxes, \n",
        "          plotting.draw_classes_map,\n",
        "          plotting.draw_objectness_map,\n",
        "          plotting.draw_classes_max_score_map,\n",
        "      ],\n",
        "      image=features['image'][idx] / 255,\n",
        "      score_threshold=0.5,\n",
        "  )\n",
        "  return render\n",
        "\n",
        "# features, labels = next(iter(prepared_train_dataset))\n",
        "# draw_predictions(model, features, labels, fm = \"fm28x28\")"
      ],
      "execution_count": 0,
      "outputs": []
    },
    {
      "cell_type": "markdown",
      "metadata": {
        "id": "1ZBTnWiGUhyB",
        "colab_type": "text"
      },
      "source": [
        "Export model to tflite"
      ]
    },
    {
      "cell_type": "code",
      "metadata": {
        "id": "d_NMr1FEVVoZ",
        "colab_type": "code",
        "colab": {
          "base_uri": "https://localhost:8080/",
          "height": 35
        },
        "outputId": "a7305302-de37-4080-903e-ddeb0c67d5ce"
      },
      "source": [
        "len(_logger.handlers)"
      ],
      "execution_count": 34,
      "outputs": [
        {
          "output_type": "execute_result",
          "data": {
            "text/plain": [
              "0"
            ]
          },
          "metadata": {
            "tags": []
          },
          "execution_count": 34
        }
      ]
    },
    {
      "cell_type": "code",
      "metadata": {
        "id": "r3rOUcVaVHXo",
        "colab_type": "code",
        "colab": {
          "base_uri": "https://localhost:8080/",
          "height": 35
        },
        "outputId": "554ecaec-d7e1-4ea2-946b-c1483ae1b3e3"
      },
      "source": [
        "# Run this if you see tensorflow duplicated logs\n",
        "from tensorflow.python.platform.tf_logging import _logger\n",
        "if len(_logger.handlers) > 1:\n",
        "  _logger.handlers.pop(0)"
      ],
      "execution_count": 32,
      "outputs": [
        {
          "output_type": "execute_result",
          "data": {
            "text/plain": [
              "<StreamHandler stdout (NOTSET)>"
            ]
          },
          "metadata": {
            "tags": []
          },
          "execution_count": 32
        }
      ]
    },
    {
      "cell_type": "code",
      "metadata": {
        "id": "dqhxOzL1UD97",
        "colab_type": "code",
        "colab": {
          "base_uri": "https://localhost:8080/",
          "height": 1000
        },
        "outputId": "cd33d15d-f64b-4db2-845b-d34c1dbc7f94"
      },
      "source": [
        "# creates two versions of the model:  \n",
        "#  - models/non-quantized-model.tflite\n",
        "#  - models/non-quantized-model-quantized.tflite (for this representative dataset is used to accumulate stats)\n",
        "\n",
        "exported_model, tflite_models_paths = builder.convert_to_tflite(    \n",
        "    model, \n",
        "    save_path=\"models/non-quantized-model.tflite\", \n",
        "    export_batch_size = 1,\n",
        "    raw_dataset = dataset,  # dataset to the test the stats between (per image data)\n",
        "    num_dataset_samples = 32, # representative dataset number of samples\n",
        "    num_test_steps = 16, # number of images used to test output statistics\n",
        "    merge_feature_maps=True,  # merge FPN feature maps into single tensor of shape [1, num_anchors, num_outputs]\n",
        "    postprocess_outputs=True,  # apply post processing on head outputs e.g. decode box coordinates to [height, width, y_center, x_center]\n",
        "    convert_quantized_model=True # Use represenetative dataset to create integer quantized model\n",
        ")"
      ],
      "execution_count": 33,
      "outputs": [
        {
          "output_type": "stream",
          "text": [
            "INFO:tensorflow:Preparing dataset for export of quantized model\n",
            "INFO:tensorflow:Merging feature maps\n",
            "INFO:tensorflow:Export outputs\n",
            "INFO:tensorflow:- objectness           - Tensor(\"objectness_1/Identity:0\", shape=(1, 980), dtype=float32)\n",
            "INFO:tensorflow:- box_shape            - Tensor(\"box_shape_1/Identity:0\", shape=(1, 980, 4), dtype=float32)\n",
            "INFO:tensorflow:- classes              - Tensor(\"classes_1/Identity:0\", shape=(1, 980, 9), dtype=float32)\n",
            "INFO:tensorflow:Exporting model\n",
            "INFO:tensorflow:Converting model to tflite format \n",
            "INFO:tensorflow:Building TFLite model from Keras Model using optimizations: [<Optimize.DEFAULT: 'DEFAULT'>]\n",
            "INFO:tensorflow:Model converted successfully \n",
            "INFO:tensorflow:Testing tflite model for N=1 iterations ..\n",
            "INFO:tensorflow:Test finished in 0.105418 seconds\n",
            "INFO:tensorflow:Model saved to models/non-quantized-model.tflite\n",
            "INFO:tensorflow:Converting quantized model\n"
          ],
          "name": "stderr"
        },
        {
          "output_type": "stream",
          "text": [
            "Input details:\n",
            "{ 'dtype': <class 'numpy.float32'>,\n",
            "  'index': 0,\n",
            "  'name': 'image',\n",
            "  'quantization': (0.0, 0),\n",
            "  'quantization_parameters': { 'quantized_dimension': 0,\n",
            "                               'scales': array([], dtype=float32),\n",
            "                               'zero_points': array([], dtype=int32)},\n",
            "  'shape': array([  1, 224, 224,   3], dtype=int32),\n",
            "  'shape_signature': array([  1, 224, 224,   3], dtype=int32),\n",
            "  'sparsity_parameters': {}}\n",
            "Output details:\n",
            "{ 'dtype': <class 'numpy.float32'>,\n",
            "  'index': 103,\n",
            "  'name': 'export/box_shape/output',\n",
            "  'quantization': (0.0, 0),\n",
            "  'quantization_parameters': { 'quantized_dimension': 0,\n",
            "                               'scales': array([], dtype=float32),\n",
            "                               'zero_points': array([], dtype=int32)},\n",
            "  'shape': array([  1, 980,   4], dtype=int32),\n",
            "  'shape_signature': array([  1, 980,   4], dtype=int32),\n",
            "  'sparsity_parameters': {}}\n",
            "{ 'dtype': <class 'numpy.float32'>,\n",
            "  'index': 109,\n",
            "  'name': 'export/classes/output',\n",
            "  'quantization': (0.0, 0),\n",
            "  'quantization_parameters': { 'quantized_dimension': 0,\n",
            "                               'scales': array([], dtype=float32),\n",
            "                               'zero_points': array([], dtype=int32)},\n",
            "  'shape': array([  1, 980,   9], dtype=int32),\n",
            "  'shape_signature': array([  1, 980,   9], dtype=int32),\n",
            "  'sparsity_parameters': {}}\n",
            "{ 'dtype': <class 'numpy.float32'>,\n",
            "  'index': 115,\n",
            "  'name': 'export/objectness/output',\n",
            "  'quantization': (0.0, 0),\n",
            "  'quantization_parameters': { 'quantized_dimension': 0,\n",
            "                               'scales': array([], dtype=float32),\n",
            "                               'zero_points': array([], dtype=int32)},\n",
            "  'shape': array([  1, 980], dtype=int32),\n",
            "  'shape_signature': array([  1, 980], dtype=int32),\n",
            "  'sparsity_parameters': {}}\n"
          ],
          "name": "stdout"
        },
        {
          "output_type": "stream",
          "text": [
            "INFO:tensorflow:Model converted successfully \n",
            "INFO:tensorflow:Testing tflite model for N=1 iterations ..\n"
          ],
          "name": "stderr"
        },
        {
          "output_type": "stream",
          "text": [
            "Input details:\n",
            "{ 'dtype': <class 'numpy.float32'>,\n",
            "  'index': 122,\n",
            "  'name': 'image',\n",
            "  'quantization': (0.0, 0),\n",
            "  'quantization_parameters': { 'quantized_dimension': 0,\n",
            "                               'scales': array([], dtype=float32),\n",
            "                               'zero_points': array([], dtype=int32)},\n",
            "  'shape': array([  1, 224, 224,   3], dtype=int32),\n",
            "  'shape_signature': array([  1, 224, 224,   3], dtype=int32),\n",
            "  'sparsity_parameters': {}}\n",
            "Output details:\n",
            "{ 'dtype': <class 'numpy.float32'>,\n",
            "  'index': 123,\n",
            "  'name': 'export/box_shape/output',\n",
            "  'quantization': (0.0, 0),\n",
            "  'quantization_parameters': { 'quantized_dimension': 0,\n",
            "                               'scales': array([], dtype=float32),\n",
            "                               'zero_points': array([], dtype=int32)},\n",
            "  'shape': array([  1, 980,   4], dtype=int32),\n",
            "  'shape_signature': array([  1, 980,   4], dtype=int32),\n",
            "  'sparsity_parameters': {}}\n",
            "{ 'dtype': <class 'numpy.float32'>,\n",
            "  'index': 124,\n",
            "  'name': 'export/classes/output',\n",
            "  'quantization': (0.0, 0),\n",
            "  'quantization_parameters': { 'quantized_dimension': 0,\n",
            "                               'scales': array([], dtype=float32),\n",
            "                               'zero_points': array([], dtype=int32)},\n",
            "  'shape': array([  1, 980,   9], dtype=int32),\n",
            "  'shape_signature': array([  1, 980,   9], dtype=int32),\n",
            "  'sparsity_parameters': {}}\n",
            "{ 'dtype': <class 'numpy.float32'>,\n",
            "  'index': 125,\n",
            "  'name': 'export/objectness/output',\n",
            "  'quantization': (0.0, 0),\n",
            "  'quantization_parameters': { 'quantized_dimension': 0,\n",
            "                               'scales': array([], dtype=float32),\n",
            "                               'zero_points': array([], dtype=int32)},\n",
            "  'shape': array([  1, 980], dtype=int32),\n",
            "  'shape_signature': array([  1, 980], dtype=int32),\n",
            "  'sparsity_parameters': {}}\n"
          ],
          "name": "stdout"
        },
        {
          "output_type": "stream",
          "text": [
            "INFO:tensorflow:Test finished in 3.025844 seconds\n",
            "INFO:tensorflow:Quantized model saved to models/non-quantized-model.quantized.tflite\n",
            "INFO:tensorflow:Testing converted model: non-quantized-model.tflite\n",
            "INFO:tensorflow:Testing converted model: non-quantized-model.tflite\n",
            "100%|██████████| 16/16 [00:02<00:00,  6.14it/s]\n",
            "INFO:tensorflow:Measured deviation between keras and tflite model:\n",
            "INFO:tensorflow:\n",
            " - export/objectness/output  \n",
            "\tMAE     =  0.001443 \n",
            "\tRMSE    =  0.007112 \n",
            "\tKeras   = N(μ=  0.061984, σ=  0.212396)\n",
            "\ttflite  = N(μ=  0.062167, σ=  0.212732)\n",
            " - export/box_shape/output   \n",
            "\tMAE     =  0.001059 \n",
            "\tRMSE    =  0.001693 \n",
            "\tKeras   = N(μ=  0.277584, σ=  0.299346)\n",
            "\ttflite  = N(μ=  0.277790, σ=  0.299278)\n",
            " - export/classes/output     \n",
            "\tMAE     =  0.000053 \n",
            "\tRMSE    =  0.000971 \n",
            "\tKeras   = N(μ=  0.002409, σ=  0.042256)\n",
            "\ttflite  = N(μ=  0.002411, σ=  0.042299)\n",
            "INFO:tensorflow:Testing converted model: non-quantized-model.quantized.tflite\n",
            "INFO:tensorflow:Testing converted model: non-quantized-model.quantized.tflite\n",
            "100%|██████████| 16/16 [00:49<00:00,  3.11s/it]\n",
            "INFO:tensorflow:Measured deviation between keras and tflite model:\n",
            "INFO:tensorflow:\n",
            " - export/objectness/output  \n",
            "\tMAE     =  0.000951 \n",
            "\tRMSE    =  0.004980 \n",
            "\tKeras   = N(μ=  0.049918, σ=  0.188693)\n",
            "\ttflite  = N(μ=  0.050069, σ=  0.189049)\n",
            " - export/box_shape/output   \n",
            "\tMAE     =  0.002850 \n",
            "\tRMSE    =  0.003460 \n",
            "\tKeras   = N(μ=  0.274603, σ=  0.300936)\n",
            "\ttflite  = N(μ=  0.275128, σ=  0.300461)\n",
            " - export/classes/output     \n",
            "\tMAE     =  0.001416 \n",
            "\tRMSE    =  0.020394 \n",
            "\tKeras   = N(μ=  0.002073, σ=  0.038960)\n",
            "\ttflite  = N(μ=  0.002600, σ=  0.037508)\n"
          ],
          "name": "stderr"
        }
      ]
    },
    {
      "cell_type": "code",
      "metadata": {
        "id": "0gZlzPKzU5j8",
        "colab_type": "code",
        "colab": {
          "base_uri": "https://localhost:8080/",
          "height": 54
        },
        "outputId": "5e9bff34-2c46-402f-bcfe-3e541b92a678"
      },
      "source": [
        "tflite_models_paths"
      ],
      "execution_count": 35,
      "outputs": [
        {
          "output_type": "execute_result",
          "data": {
            "text/plain": [
              "[PosixPath('models/non-quantized-model.tflite'),\n",
              " PosixPath('models/non-quantized-model.quantized.tflite')]"
            ]
          },
          "metadata": {
            "tags": []
          },
          "execution_count": 35
        }
      ]
    },
    {
      "cell_type": "markdown",
      "metadata": {
        "id": "z7dOoW5nWGqY",
        "colab_type": "text"
      },
      "source": [
        "Build and train Quantized model"
      ]
    },
    {
      "cell_type": "code",
      "metadata": {
        "id": "PTkvupjoVcJB",
        "colab_type": "code",
        "colab": {
          "base_uri": "https://localhost:8080/",
          "height": 272
        },
        "outputId": "0d3a6ac7-a8c6-40ce-922b-01b4121046b6"
      },
      "source": [
        "quantized_model = builder.build_quantized(\n",
        "    batch_size=None, \n",
        "    non_quantized_model_weights=\"models/non-quantized-model.h5\"\n",
        ")"
      ],
      "execution_count": 38,
      "outputs": [
        {
          "output_type": "stream",
          "text": [
            "INFO:tensorflow:Building quantized model with batch_size = None\n",
            "INFO:tensorflow:Input image: (None, 224, 224, 3)\n",
            "INFO:tensorflow:Processing backbone: <keras_detection.backbones.resnet.ResNetBackbone object at 0x7fd38a677b00>\n",
            "INFO:tensorflow:Processing feature maps for tasks: ['objectness', 'box_shape', 'classes']\n",
            "INFO:tensorflow: Processing feature map (fm28x28)\n",
            "INFO:tensorflow: Processing feature map (fm14x14)\n",
            "INFO:tensorflow:Loading weights of base model: models/non-quantized-model.h5\n",
            "INFO:tensorflow:Building graph with quantization enabled\n",
            "INFO:tensorflow:Input image: (None, 224, 224, 3)\n",
            "INFO:tensorflow:Processing backbone: <keras_detection.backbones.resnet.ResNetBackbone object at 0x7fd38a677b00>\n",
            "INFO:tensorflow:Running quantization for model backbone: model_2\n",
            "INFO:tensorflow:Processing feature maps for tasks: ['objectness', 'box_shape', 'classes']\n",
            "INFO:tensorflow: Processing feature map (fm28x28)\n",
            "INFO:tensorflow: Processing feature map (fm14x14)\n"
          ],
          "name": "stderr"
        }
      ]
    },
    {
      "cell_type": "code",
      "metadata": {
        "id": "HgOJRXkzWMwQ",
        "colab_type": "code",
        "colab": {
          "base_uri": "https://localhost:8080/",
          "height": 708
        },
        "outputId": "1c3cba90-68fc-426d-f7bc-22be24e88444"
      },
      "source": [
        "# heads are not quantized (they have quantizable = Fales)\n",
        "quantized_model.summary()"
      ],
      "execution_count": 40,
      "outputs": [
        {
          "output_type": "stream",
          "text": [
            "Model: \"model_5\"\n",
            "__________________________________________________________________________________________________\n",
            "Layer (type)                    Output Shape         Param #     Connected to                     \n",
            "==================================================================================================\n",
            "image (InputLayer)              [(None, 224, 224, 3) 0                                            \n",
            "__________________________________________________________________________________________________\n",
            "tf_op_layer_RealDiv_7 (TensorFl [(None, 224, 224, 3) 0           image[0][0]                      \n",
            "__________________________________________________________________________________________________\n",
            "model_2 (Model)                 [(None, 56, 56, 64), 1239072     tf_op_layer_RealDiv_7[0][0]      \n",
            "__________________________________________________________________________________________________\n",
            "head/fm28x28/fm28x28/objectness (None, 28, 28, 1)    74113       model_2[1][1]                    \n",
            "__________________________________________________________________________________________________\n",
            "head/fm28x28/fm28x28/box_shape  (None, 28, 28, 4)    74308       model_2[1][1]                    \n",
            "__________________________________________________________________________________________________\n",
            "head/fm28x28/fm28x28/classes (M (None, 28, 28, 10)   74698       model_2[1][1]                    \n",
            "__________________________________________________________________________________________________\n",
            "head/fm14x14/fm14x14/objectness (None, 14, 14, 1)    147841      model_2[1][2]                    \n",
            "__________________________________________________________________________________________________\n",
            "head/fm14x14/fm14x14/box_shape  (None, 14, 14, 4)    148036      model_2[1][2]                    \n",
            "__________________________________________________________________________________________________\n",
            "head/fm14x14/fm14x14/classes (M (None, 14, 14, 10)   148426      model_2[1][2]                    \n",
            "__________________________________________________________________________________________________\n",
            "fm28x28/objectness (Activation) (None, 28, 28, 1)    0           head/fm28x28/fm28x28/objectness[2\n",
            "__________________________________________________________________________________________________\n",
            "fm28x28/box_shape (Activation)  (None, 28, 28, 4)    0           head/fm28x28/fm28x28/box_shape[2]\n",
            "__________________________________________________________________________________________________\n",
            "fm28x28/classes (Softmax)       (None, 28, 28, 10)   0           head/fm28x28/fm28x28/classes[2][0\n",
            "__________________________________________________________________________________________________\n",
            "fm14x14/objectness (Activation) (None, 14, 14, 1)    0           head/fm14x14/fm14x14/objectness[2\n",
            "__________________________________________________________________________________________________\n",
            "fm14x14/box_shape (Activation)  (None, 14, 14, 4)    0           head/fm14x14/fm14x14/box_shape[2]\n",
            "__________________________________________________________________________________________________\n",
            "fm14x14/classes (Softmax)       (None, 14, 14, 10)   0           head/fm14x14/fm14x14/classes[2][0\n",
            "==================================================================================================\n",
            "Total params: 1,906,494\n",
            "Trainable params: 1,901,802\n",
            "Non-trainable params: 4,692\n",
            "__________________________________________________________________________________________________\n"
          ],
          "name": "stdout"
        }
      ]
    },
    {
      "cell_type": "code",
      "metadata": {
        "id": "NUDMIv_UWP9v",
        "colab_type": "code",
        "colab": {
          "base_uri": "https://localhost:8080/",
          "height": 1000
        },
        "outputId": "309b8f86-5eb9-4c10-f1d9-8b58c0e083c6"
      },
      "source": [
        "# check if resnet is quantized\n",
        "quantized_model.layers[2].summary()"
      ],
      "execution_count": 42,
      "outputs": [
        {
          "output_type": "stream",
          "text": [
            "Model: \"model_2\"\n",
            "__________________________________________________________________________________________________\n",
            "Layer (type)                    Output Shape         Param #     Connected to                     \n",
            "==================================================================================================\n",
            "image (InputLayer)              [(None, 224, 224, 3) 0                                            \n",
            "__________________________________________________________________________________________________\n",
            "quantize_layer (QuantizeLayer)  (None, 224, 224, 3)  3           image[0][0]                      \n",
            "__________________________________________________________________________________________________\n",
            "quant_conv0-pre (QuantizeWrappe (None, 224, 224, 3)  16          quantize_layer[1][0]             \n",
            "__________________________________________________________________________________________________\n",
            "quant_bn_data (QuantizeWrapper) (None, 224, 224, 3)  12          quant_conv0-pre[0][0]            \n",
            "__________________________________________________________________________________________________\n",
            "quant_zero_padding2d_8 (Quantiz (None, 230, 230, 3)  1           quant_bn_data[0][0]              \n",
            "__________________________________________________________________________________________________\n",
            "quant_conv0 (QuantizeWrapper)   (None, 112, 112, 64) 9537        quant_zero_padding2d_8[0][0]     \n",
            "__________________________________________________________________________________________________\n",
            "quant_bn0 (QuantizeWrapper)     (None, 112, 112, 64) 257         quant_conv0[0][0]                \n",
            "__________________________________________________________________________________________________\n",
            "quant_relu0 (QuantizeWrapper)   (None, 112, 112, 64) 3           quant_bn0[0][0]                  \n",
            "__________________________________________________________________________________________________\n",
            "quant_zero_padding2d_9 (Quantiz (None, 114, 114, 64) 1           quant_relu0[0][0]                \n",
            "__________________________________________________________________________________________________\n",
            "quant_pooling0 (QuantizeWrapper (None, 56, 56, 64)   1           quant_zero_padding2d_9[0][0]     \n",
            "__________________________________________________________________________________________________\n",
            "quant_stage1_unit1_relu1 (Quant (None, 56, 56, 64)   3           quant_pooling0[0][0]             \n",
            "__________________________________________________________________________________________________\n",
            "quant_zero_padding2d_10 (Quanti (None, 58, 58, 64)   1           quant_stage1_unit1_relu1[0][0]   \n",
            "__________________________________________________________________________________________________\n",
            "quant_stage1_unit1_conv1 (Quant (None, 56, 56, 64)   36993       quant_zero_padding2d_10[0][0]    \n",
            "__________________________________________________________________________________________________\n",
            "quant_stage1_unit1_bn2 (Quantiz (None, 56, 56, 64)   257         quant_stage1_unit1_conv1[0][0]   \n",
            "__________________________________________________________________________________________________\n",
            "quant_stage1_unit1_relu2 (Quant (None, 56, 56, 64)   3           quant_stage1_unit1_bn2[0][0]     \n",
            "__________________________________________________________________________________________________\n",
            "quant_zero_padding2d_11 (Quanti (None, 58, 58, 64)   1           quant_stage1_unit1_relu2[0][0]   \n",
            "__________________________________________________________________________________________________\n",
            "quant_stage1_unit1_conv2 (Quant (None, 56, 56, 64)   36995       quant_zero_padding2d_11[0][0]    \n",
            "__________________________________________________________________________________________________\n",
            "quant_stage1_unit1_sc (Quantize (None, 56, 56, 64)   4227        quant_stage1_unit1_relu1[0][0]   \n",
            "__________________________________________________________________________________________________\n",
            "quant_add_3 (QuantizeWrapper)   (None, 56, 56, 64)   3           quant_stage1_unit1_conv2[0][0]   \n",
            "                                                                 quant_stage1_unit1_sc[0][0]      \n",
            "__________________________________________________________________________________________________\n",
            "quant_stage2_unit1_relu1 (Quant (None, 56, 56, 64)   3           quant_add_3[0][0]                \n",
            "__________________________________________________________________________________________________\n",
            "quant_zero_padding2d_12 (Quanti (None, 58, 58, 64)   1           quant_stage2_unit1_relu1[0][0]   \n",
            "__________________________________________________________________________________________________\n",
            "quant_stage2_unit1_conv1 (Quant (None, 28, 28, 128)  73985       quant_zero_padding2d_12[0][0]    \n",
            "__________________________________________________________________________________________________\n",
            "quant_stage2_unit1_bn2 (Quantiz (None, 28, 28, 128)  513         quant_stage2_unit1_conv1[0][0]   \n",
            "__________________________________________________________________________________________________\n",
            "quant_stage2_unit1_relu2 (Quant (None, 28, 28, 128)  3           quant_stage2_unit1_bn2[0][0]     \n",
            "__________________________________________________________________________________________________\n",
            "quant_zero_padding2d_13 (Quanti (None, 30, 30, 128)  1           quant_stage2_unit1_relu2[0][0]   \n",
            "__________________________________________________________________________________________________\n",
            "quant_stage2_unit1_conv2 (Quant (None, 28, 28, 128)  147715      quant_zero_padding2d_13[0][0]    \n",
            "__________________________________________________________________________________________________\n",
            "quant_stage2_unit1_sc (Quantize (None, 28, 28, 128)  8451        quant_stage2_unit1_relu1[0][0]   \n",
            "__________________________________________________________________________________________________\n",
            "quant_add_4 (QuantizeWrapper)   (None, 28, 28, 128)  3           quant_stage2_unit1_conv2[0][0]   \n",
            "                                                                 quant_stage2_unit1_sc[0][0]      \n",
            "__________________________________________________________________________________________________\n",
            "quant_stage3_unit1_relu1 (Quant (None, 28, 28, 128)  3           quant_add_4[0][0]                \n",
            "__________________________________________________________________________________________________\n",
            "quant_zero_padding2d_14 (Quanti (None, 30, 30, 128)  1           quant_stage3_unit1_relu1[0][0]   \n",
            "__________________________________________________________________________________________________\n",
            "quant_stage3_unit1_conv1 (Quant (None, 14, 14, 256)  295425      quant_zero_padding2d_14[0][0]    \n",
            "__________________________________________________________________________________________________\n",
            "quant_stage3_unit1_bn2 (Quantiz (None, 14, 14, 256)  1025        quant_stage3_unit1_conv1[0][0]   \n",
            "__________________________________________________________________________________________________\n",
            "quant_stage3_unit1_relu2 (Quant (None, 14, 14, 256)  3           quant_stage3_unit1_bn2[0][0]     \n",
            "__________________________________________________________________________________________________\n",
            "quant_zero_padding2d_15 (Quanti (None, 16, 16, 256)  1           quant_stage3_unit1_relu2[0][0]   \n",
            "__________________________________________________________________________________________________\n",
            "quant_stage3_unit1_conv2 (Quant (None, 14, 14, 256)  590339      quant_zero_padding2d_15[0][0]    \n",
            "__________________________________________________________________________________________________\n",
            "quant_stage3_unit1_sc (Quantize (None, 14, 14, 256)  33283       quant_stage3_unit1_relu1[0][0]   \n",
            "__________________________________________________________________________________________________\n",
            "quant_add_5 (QuantizeWrapper)   (None, 14, 14, 256)  3           quant_stage3_unit1_conv2[0][0]   \n",
            "                                                                 quant_stage3_unit1_sc[0][0]      \n",
            "==================================================================================================\n",
            "Total params: 1,239,072\n",
            "Trainable params: 1,235,148\n",
            "Non-trainable params: 3,924\n",
            "__________________________________________________________________________________________________\n"
          ],
          "name": "stdout"
        }
      ]
    },
    {
      "cell_type": "code",
      "metadata": {
        "id": "rT8X1NtiWbes",
        "colab_type": "code",
        "colab": {
          "base_uri": "https://localhost:8080/",
          "height": 365
        },
        "outputId": "56975c9a-bbb8-4dde-c1e6-3fc903a9cb65"
      },
      "source": [
        "# test metrics after quantization, they should be worse\n",
        "# we can evaluate on train dataset since every batch is different\n",
        "builder.evaluate_model(quantized_model, train_dataset, 100)"
      ],
      "execution_count": 43,
      "outputs": [
        {
          "output_type": "stream",
          "text": [
            "100/100 [==============================] - 15s 146ms/step - loss: 0.5993 - fm28x28/objectness_loss: 0.0278 - fm28x28/box_shape_loss: 0.0230 - fm28x28/classes_loss: 0.0199 - fm14x14/objectness_loss: 0.0513 - fm14x14/box_shape_loss: 0.0215 - fm14x14/classes_loss: 0.0555 - fm28x28/objectness_ObjectnessPrecisionAT20pc: 0.3046 - fm28x28/objectness_ObjectnessRecallAT20pc: 0.9622 - fm28x28/objectness_ObjectnessPositivesMeanScore: 0.8015 - fm28x28/objectness_ObjectnessNegativesMeanScore: 0.0237 - fm28x28/classes_MulticlassAccuracyMetric: 0.9094 - fm14x14/objectness_ObjectnessPrecisionAT20pc: 0.3403 - fm14x14/objectness_ObjectnessRecallAT20pc: 0.9957 - fm14x14/objectness_ObjectnessPositivesMeanScore: 0.9402 - fm14x14/objectness_ObjectnessNegativesMeanScore: 0.0901 - fm14x14/classes_MulticlassAccuracyMetric: 0.9124\n"
          ],
          "name": "stdout"
        },
        {
          "output_type": "execute_result",
          "data": {
            "text/plain": [
              "[0.599277675151825,\n",
              " 0.027774987742304802,\n",
              " 0.022959422320127487,\n",
              " 0.019886892288923264,\n",
              " 0.05128651484847069,\n",
              " 0.021526236087083817,\n",
              " 0.055472735315561295,\n",
              " 0.3045794367790222,\n",
              " 0.9621999263763428,\n",
              " 0.8015458583831787,\n",
              " 0.023652559146285057,\n",
              " 0.909427285194397,\n",
              " 0.34028854966163635,\n",
              " 0.9956534504890442,\n",
              " 0.9402021169662476,\n",
              " 0.09013652801513672,\n",
              " 0.9123715758323669]"
            ]
          },
          "metadata": {
            "tags": []
          },
          "execution_count": 43
        }
      ]
    },
    {
      "cell_type": "code",
      "metadata": {
        "id": "iGh7CR3rWsmL",
        "colab_type": "code",
        "colab": {}
      },
      "source": [
        "# quantized_model.metrics_names"
      ],
      "execution_count": 0,
      "outputs": []
    },
    {
      "cell_type": "code",
      "metadata": {
        "id": "yLL-pRG4W1f9",
        "colab_type": "code",
        "colab": {}
      },
      "source": [
        "l2_reg_fn = kd_utils.get_l2_loss_fn(l2_reg=1e-5, model=quantized_model)\n",
        "quantized_model.add_loss(l2_reg_fn)"
      ],
      "execution_count": 0,
      "outputs": []
    },
    {
      "cell_type": "code",
      "metadata": {
        "id": "G9ICnzZcW8cn",
        "colab_type": "code",
        "colab": {
          "base_uri": "https://localhost:8080/",
          "height": 92
        },
        "outputId": "78fbbcd3-3261-47ee-93a0-8eddb922fd86"
      },
      "source": [
        "optimizer = keras.optimizers.Adam(learning_rate=0.001, beta_2=0.995)\n",
        "quantized_model.compile(optimizer, **builder.get_model_compile_args())\n",
        "quantized_model.fit(prepared_train_dataset, epochs=2, steps_per_epoch=500)\n",
        "quantized_model.save_weights(\"models/quantized-model.h5\")"
      ],
      "execution_count": 47,
      "outputs": [
        {
          "output_type": "stream",
          "text": [
            "500/500 [==============================] - 173s 346ms/step - loss: 0.4293 - fm28x28/objectness_loss: 0.0181 - fm28x28/box_shape_loss: 0.0078 - fm28x28/classes_loss: 0.0138 - fm14x14/objectness_loss: 0.0444 - fm14x14/box_shape_loss: 0.0190 - fm14x14/classes_loss: 0.0462 - fm28x28/objectness_ObjectnessPrecisionAT20pc: 0.2245 - fm28x28/objectness_ObjectnessRecallAT20pc: 0.9713 - fm28x28/objectness_ObjectnessPositivesMeanScore: 0.9372 - fm28x28/objectness_ObjectnessNegativesMeanScore: 0.0419 - fm28x28/classes_MulticlassAccuracyMetric: 0.9408 - fm14x14/objectness_ObjectnessPrecisionAT20pc: 0.2438 - fm14x14/objectness_ObjectnessRecallAT20pc: 0.9894 - fm14x14/objectness_ObjectnessPositivesMeanScore: 0.9628 - fm14x14/objectness_ObjectnessNegativesMeanScore: 0.1614 - fm14x14/classes_MulticlassAccuracyMetric: 0.9184\n",
            "Epoch 2/2\n",
            "500/500 [==============================] - 172s 344ms/step - loss: 0.3903 - fm28x28/objectness_loss: 0.0180 - fm28x28/box_shape_loss: 0.0068 - fm28x28/classes_loss: 0.0134 - fm14x14/objectness_loss: 0.0440 - fm14x14/box_shape_loss: 0.0158 - fm14x14/classes_loss: 0.0465 - fm28x28/objectness_ObjectnessPrecisionAT20pc: 0.2233 - fm28x28/objectness_ObjectnessRecallAT20pc: 0.9712 - fm28x28/objectness_ObjectnessPositivesMeanScore: 0.9373 - fm28x28/objectness_ObjectnessNegativesMeanScore: 0.0424 - fm28x28/classes_MulticlassAccuracyMetric: 0.9414 - fm14x14/objectness_ObjectnessPrecisionAT20pc: 0.2505 - fm14x14/objectness_ObjectnessRecallAT20pc: 0.9896 - fm14x14/objectness_ObjectnessPositivesMeanScore: 0.9628 - fm14x14/objectness_ObjectnessNegativesMeanScore: 0.1568 - fm14x14/classes_MulticlassAccuracyMetric: 0.9183\n"
          ],
          "name": "stdout"
        }
      ]
    },
    {
      "cell_type": "code",
      "metadata": {
        "id": "i-bfHTuyXCVJ",
        "colab_type": "code",
        "colab": {}
      },
      "source": [
        "quantized_model.save_weights(\"models/quantized-model.h5\")"
      ],
      "execution_count": 0,
      "outputs": []
    },
    {
      "cell_type": "code",
      "metadata": {
        "id": "BadxD3yRYd2W",
        "colab_type": "code",
        "colab": {}
      },
      "source": [
        "quantized_model.load_weights(\"models/quantized-model.h5\")"
      ],
      "execution_count": 0,
      "outputs": []
    },
    {
      "cell_type": "code",
      "metadata": {
        "id": "chDvqgHBYgIM",
        "colab_type": "code",
        "colab": {
          "base_uri": "https://localhost:8080/",
          "height": 425
        },
        "outputId": "964ecc38-3c96-482e-c226-0567e72a83c8"
      },
      "source": [
        "# features, labels = next(iter(prepared_train_dataset))\n",
        "draw_predictions(quantized_model, features, labels, fm = \"fm28x28\")"
      ],
      "execution_count": 53,
      "outputs": [
        {
          "output_type": "stream",
          "text": [
            "WARNING:matplotlib.image:Clipping input data to the valid range for imshow with RGB data ([0..1] for floats or [0..255] for integers).\n",
            "WARNING:matplotlib.image:Clipping input data to the valid range for imshow with RGB data ([0..1] for floats or [0..255] for integers).\n",
            "WARNING:matplotlib.image:Clipping input data to the valid range for imshow with RGB data ([0..1] for floats or [0..255] for integers).\n",
            "WARNING:matplotlib.image:Clipping input data to the valid range for imshow with RGB data ([0..1] for floats or [0..255] for integers).\n",
            "WARNING:matplotlib.image:Clipping input data to the valid range for imshow with RGB data ([0..1] for floats or [0..255] for integers).\n"
          ],
          "name": "stderr"
        },
        {
          "output_type": "execute_result",
          "data": {
            "image/png": "[encoded data removed]",
            "text/plain": [
              "<PIL.Image.Image image mode=RGBA size=1800x360 at 0x7FD37C9D5080>"
            ]
          },
          "metadata": {
            "tags": []
          },
          "execution_count": 53
        }
      ]
    },
    {
      "cell_type": "code",
      "metadata": {
        "id": "Obb5WPIWY5Qr",
        "colab_type": "code",
        "colab": {}
      },
      "source": [
        "# draw_predictions(quantized_model, features, labels, fm = \"fm14x14\")"
      ],
      "execution_count": 0,
      "outputs": []
    },
    {
      "cell_type": "code",
      "metadata": {
        "id": "OSQsJ5g9Y8JT",
        "colab_type": "code",
        "colab": {
          "base_uri": "https://localhost:8080/",
          "height": 365
        },
        "outputId": "88f91d3d-7e07-4d6e-9dee-804ea35d0e1c"
      },
      "source": [
        "builder.evaluate_model(quantized_model, train_dataset, 100)"
      ],
      "execution_count": 57,
      "outputs": [
        {
          "output_type": "stream",
          "text": [
            "100/100 [==============================] - 15s 145ms/step - loss: 0.3698 - fm28x28/objectness_loss: 0.0184 - fm28x28/box_shape_loss: 0.0062 - fm28x28/classes_loss: 0.0143 - fm14x14/objectness_loss: 0.0441 - fm14x14/box_shape_loss: 0.0137 - fm14x14/classes_loss: 0.0481 - fm28x28/objectness_ObjectnessPrecisionAT20pc: 0.2157 - fm28x28/objectness_ObjectnessRecallAT20pc: 0.9733 - fm28x28/objectness_ObjectnessPositivesMeanScore: 0.9485 - fm28x28/objectness_ObjectnessNegativesMeanScore: 0.0456 - fm28x28/classes_MulticlassAccuracyMetric: 0.9409 - fm14x14/objectness_ObjectnessPrecisionAT20pc: 0.2294 - fm14x14/objectness_ObjectnessRecallAT20pc: 0.9898 - fm14x14/objectness_ObjectnessPositivesMeanScore: 0.9696 - fm14x14/objectness_ObjectnessNegativesMeanScore: 0.1854 - fm14x14/classes_MulticlassAccuracyMetric: 0.9150\n"
          ],
          "name": "stdout"
        },
        {
          "output_type": "execute_result",
          "data": {
            "text/plain": [
              "[0.3698403537273407,\n",
              " 0.018394822254776955,\n",
              " 0.006242021918296814,\n",
              " 0.01433426234871149,\n",
              " 0.044148679822683334,\n",
              " 0.013673944398760796,\n",
              " 0.04810294136404991,\n",
              " 0.21572260558605194,\n",
              " 0.9732905030250549,\n",
              " 0.9485495090484619,\n",
              " 0.045578837394714355,\n",
              " 0.9408653378486633,\n",
              " 0.22935806214809418,\n",
              " 0.9898295402526855,\n",
              " 0.9695593118667603,\n",
              " 0.18540377914905548,\n",
              " 0.9150264263153076]"
            ]
          },
          "metadata": {
            "tags": []
          },
          "execution_count": 57
        }
      ]
    },
    {
      "cell_type": "code",
      "metadata": {
        "id": "iDL3lO8XZzQQ",
        "colab_type": "code",
        "colab": {
          "base_uri": "https://localhost:8080/",
          "height": 1000
        },
        "outputId": "563db599-49a9-4702-9b16-d85c409ff2b6"
      },
      "source": [
        "# creates two versions of the model:  \n",
        "#  - models/quantized-model.tflite\n",
        "\n",
        "exported_model, quantized_tflite_models_paths = builder.convert_to_tflite(    \n",
        "    quantized_model, \n",
        "    save_path=\"models/quantized-model.tflite\", \n",
        "    export_batch_size = 1,\n",
        "    raw_dataset = dataset,  # dataset to the test the stats between \n",
        "    num_dataset_samples = 32, # representative dataset number of samples\n",
        "    num_test_steps = 16, # number of images used to test output statistics\n",
        "    merge_feature_maps=True,  # merge FPN feature maps into single tensor of shape [1, num_anchors, num_outputs]\n",
        "    postprocess_outputs=True,  # apply post processing on head outputs e.g. decode box coordinates to [height, width, y_center, x_center]\n",
        "    convert_quantized_model=False # does not work with  QAT models\n",
        ")"
      ],
      "execution_count": 59,
      "outputs": [
        {
          "output_type": "stream",
          "text": [
            "INFO:tensorflow:Preparing dataset for export of quantized model\n",
            "INFO:tensorflow:Merging feature maps\n",
            "INFO:tensorflow:Export outputs\n",
            "INFO:tensorflow:- objectness           - Tensor(\"objectness_2/Identity:0\", shape=(1, 980), dtype=float32)\n",
            "INFO:tensorflow:- box_shape            - Tensor(\"box_shape_2/Identity:0\", shape=(1, 980, 4), dtype=float32)\n",
            "INFO:tensorflow:- classes              - Tensor(\"classes_2/Identity:0\", shape=(1, 980, 9), dtype=float32)\n",
            "INFO:tensorflow:Exporting model\n",
            "INFO:tensorflow:Converting model to tflite format \n",
            "INFO:tensorflow:Building TFLite model from Keras Model using optimizations: [<Optimize.DEFAULT: 'DEFAULT'>]\n",
            "INFO:tensorflow:Model converted successfully \n",
            "INFO:tensorflow:Testing tflite model for N=1 iterations ..\n",
            "INFO:tensorflow:Test finished in 0.107266 seconds\n",
            "INFO:tensorflow:Model saved to models/quantized-model.tflite\n",
            "INFO:tensorflow:Testing converted model: quantized-model.tflite\n",
            "INFO:tensorflow:Testing converted model: quantized-model.tflite\n",
            "  0%|          | 0/16 [00:00<?, ?it/s]"
          ],
          "name": "stderr"
        },
        {
          "output_type": "stream",
          "text": [
            "Input details:\n",
            "{ 'dtype': <class 'numpy.float32'>,\n",
            "  'index': 0,\n",
            "  'name': 'image',\n",
            "  'quantization': (0.0, 0),\n",
            "  'quantization_parameters': { 'quantized_dimension': 0,\n",
            "                               'scales': array([], dtype=float32),\n",
            "                               'zero_points': array([], dtype=int32)},\n",
            "  'shape': array([  1, 224, 224,   3], dtype=int32),\n",
            "  'shape_signature': array([  1, 224, 224,   3], dtype=int32),\n",
            "  'sparsity_parameters': {}}\n",
            "Output details:\n",
            "{ 'dtype': <class 'numpy.float32'>,\n",
            "  'index': 155,\n",
            "  'name': 'export/box_shape/output',\n",
            "  'quantization': (0.0, 0),\n",
            "  'quantization_parameters': { 'quantized_dimension': 0,\n",
            "                               'scales': array([], dtype=float32),\n",
            "                               'zero_points': array([], dtype=int32)},\n",
            "  'shape': array([  1, 980,   4], dtype=int32),\n",
            "  'shape_signature': array([  1, 980,   4], dtype=int32),\n",
            "  'sparsity_parameters': {}}\n",
            "{ 'dtype': <class 'numpy.float32'>,\n",
            "  'index': 161,\n",
            "  'name': 'export/classes/output',\n",
            "  'quantization': (0.0, 0),\n",
            "  'quantization_parameters': { 'quantized_dimension': 0,\n",
            "                               'scales': array([], dtype=float32),\n",
            "                               'zero_points': array([], dtype=int32)},\n",
            "  'shape': array([  1, 980,   9], dtype=int32),\n",
            "  'shape_signature': array([  1, 980,   9], dtype=int32),\n",
            "  'sparsity_parameters': {}}\n",
            "{ 'dtype': <class 'numpy.float32'>,\n",
            "  'index': 167,\n",
            "  'name': 'export/objectness/output',\n",
            "  'quantization': (0.0, 0),\n",
            "  'quantization_parameters': { 'quantized_dimension': 0,\n",
            "                               'scales': array([], dtype=float32),\n",
            "                               'zero_points': array([], dtype=int32)},\n",
            "  'shape': array([  1, 980], dtype=int32),\n",
            "  'shape_signature': array([  1, 980], dtype=int32),\n",
            "  'sparsity_parameters': {}}\n"
          ],
          "name": "stdout"
        },
        {
          "output_type": "stream",
          "text": [
            "100%|██████████| 16/16 [00:03<00:00,  4.88it/s]\n",
            "INFO:tensorflow:Measured deviation between keras and tflite model:\n",
            "INFO:tensorflow:\n",
            " - export/objectness/output  \n",
            "\tMAE     =  0.002851 \n",
            "\tRMSE    =  0.014105 \n",
            "\tKeras   = N(μ=  0.072896, σ=  0.232952)\n",
            "\ttflite  = N(μ=  0.075414, σ=  0.236108)\n",
            " - export/box_shape/output   \n",
            "\tMAE     =  0.002254 \n",
            "\tRMSE    =  0.003083 \n",
            "\tKeras   = N(μ=  0.280684, σ=  0.298870)\n",
            "\ttflite  = N(μ=  0.279462, σ=  0.299455)\n",
            " - export/classes/output     \n",
            "\tMAE     =  0.000061 \n",
            "\tRMSE    =  0.001134 \n",
            "\tKeras   = N(μ=  0.002007, σ=  0.039090)\n",
            "\ttflite  = N(μ=  0.002017, σ=  0.039056)\n"
          ],
          "name": "stderr"
        }
      ]
    },
    {
      "cell_type": "code",
      "metadata": {
        "id": "Nml5SEHFaA2U",
        "colab_type": "code",
        "colab": {}
      },
      "source": [
        ""
      ],
      "execution_count": 0,
      "outputs": []
    }
  ]
}