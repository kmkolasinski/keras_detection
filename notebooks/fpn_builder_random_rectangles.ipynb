{
  "nbformat": 4,
  "nbformat_minor": 0,
  "metadata": {
    "accelerator": "GPU",
    "colab": {
      "name": "fpn_builder_random_rectangles.ipynb",
      "provenance": [],
      "include_colab_link": true
    },
    "kernelspec": {
      "display_name": "tensorflow-2.0",
      "language": "python",
      "name": "tensorflow-2.0"
    },
    "language_info": {
      "codemirror_mode": {
        "name": "ipython",
        "version": 3
      },
      "file_extension": ".py",
      "mimetype": "text/x-python",
      "name": "python",
      "nbconvert_exporter": "python",
      "pygments_lexer": "ipython3",
      "version": "3.6.6"
    }
  },
  "cells": [
    {
      "cell_type": "markdown",
      "metadata": {
        "id": "view-in-github",
        "colab_type": "text"
      },
      "source": [
        "<a href=\"https://colab.research.google.com/github/kmkolasinski/keras_detection/blob/master/notebooks/fpn_builder_random_rectangles.ipynb\" target=\"_parent\"><img src=\"https://colab.research.google.com/assets/colab-badge.svg\" alt=\"Open In Colab\"/></a>"
      ]
    },
    {
      "cell_type": "code",
      "metadata": {
        "colab_type": "code",
        "id": "wMqSml3iQLi6",
        "outputId": "72fd7947-5a70-43d9-b214-1c5de1616050",
        "colab": {
          "base_uri": "https://localhost:8080/",
          "height": 945
        }
      },
      "source": [
        "! pip install -q --extra-index-url=https://test.pypi.org/simple/ tensorflow-model-optimization==0.3.0.dev6\n",
        "! pip install --upgrade git+https://github.com/kmkolasinski/keras_detection.git"
      ],
      "execution_count": 89,
      "outputs": [
        {
          "output_type": "stream",
          "text": [
            "Collecting git+https://github.com/kmkolasinski/keras_detection.git\n",
            "  Cloning https://github.com/kmkolasinski/keras_detection.git to /tmp/pip-req-build-_9w98uf3\n",
            "  Running command git clone -q https://github.com/kmkolasinski/keras_detection.git /tmp/pip-req-build-_9w98uf3\n",
            "Requirement already satisfied, skipping upgrade: numba==0.48.0 in /usr/local/lib/python3.6/dist-packages (from keras-detection==0.1) (0.48.0)\n",
            "Requirement already satisfied, skipping upgrade: numpy==1.16.4 in /usr/local/lib/python3.6/dist-packages (from keras-detection==0.1) (1.16.4)\n",
            "Requirement already satisfied, skipping upgrade: tsalib==0.2.1 in /usr/local/lib/python3.6/dist-packages (from keras-detection==0.1) (0.2.1)\n",
            "Requirement already satisfied, skipping upgrade: matplotlib>=3.1.* in /usr/local/lib/python3.6/dist-packages (from keras-detection==0.1) (3.2.1)\n",
            "Requirement already satisfied, skipping upgrade: image-classifiers==1.0.0 in /usr/local/lib/python3.6/dist-packages (from keras-detection==0.1) (1.0.0)\n",
            "Requirement already satisfied, skipping upgrade: tqdm>=4.43.0 in /usr/local/lib/python3.6/dist-packages (from keras-detection==0.1) (4.45.0)\n",
            "Requirement already satisfied, skipping upgrade: tensorflow-addons>=0.8.* in /usr/local/lib/python3.6/dist-packages (from keras-detection==0.1) (0.8.3)\n",
            "Requirement already satisfied, skipping upgrade: imgaug>=0.4 in /usr/local/lib/python3.6/dist-packages (from keras-detection==0.1) (0.4.0)\n",
            "Requirement already satisfied, skipping upgrade: cached_property>=1.5 in /usr/local/lib/python3.6/dist-packages (from keras-detection==0.1) (1.5.1)\n",
            "Requirement already satisfied, skipping upgrade: cython==0.29.17 in /usr/local/lib/python3.6/dist-packages (from keras-detection==0.1) (0.29.17)\n",
            "Requirement already satisfied, skipping upgrade: pycocotools==2.0.0 in /usr/local/lib/python3.6/dist-packages (from keras-detection==0.1) (2.0.0)\n",
            "Requirement already satisfied, skipping upgrade: llvmlite<0.32.0,>=0.31.0dev0 in /usr/local/lib/python3.6/dist-packages (from numba==0.48.0->keras-detection==0.1) (0.31.0)\n",
            "Requirement already satisfied, skipping upgrade: setuptools in /usr/local/lib/python3.6/dist-packages (from numba==0.48.0->keras-detection==0.1) (46.1.3)\n",
            "Requirement already satisfied, skipping upgrade: sympy in /usr/local/lib/python3.6/dist-packages (from tsalib==0.2.1->keras-detection==0.1) (1.1.1)\n",
            "Requirement already satisfied, skipping upgrade: pyparsing!=2.0.4,!=2.1.2,!=2.1.6,>=2.0.1 in /usr/local/lib/python3.6/dist-packages (from matplotlib>=3.1.*->keras-detection==0.1) (2.4.7)\n",
            "Requirement already satisfied, skipping upgrade: kiwisolver>=1.0.1 in /usr/local/lib/python3.6/dist-packages (from matplotlib>=3.1.*->keras-detection==0.1) (1.2.0)\n",
            "Requirement already satisfied, skipping upgrade: python-dateutil>=2.1 in /usr/local/lib/python3.6/dist-packages (from matplotlib>=3.1.*->keras-detection==0.1) (2.8.1)\n",
            "Requirement already satisfied, skipping upgrade: cycler>=0.10 in /usr/local/lib/python3.6/dist-packages (from matplotlib>=3.1.*->keras-detection==0.1) (0.10.0)\n",
            "Requirement already satisfied, skipping upgrade: keras-applications<=1.0.8,>=1.0.7 in /usr/local/lib/python3.6/dist-packages (from image-classifiers==1.0.0->keras-detection==0.1) (1.0.8)\n",
            "Requirement already satisfied, skipping upgrade: typeguard in /usr/local/lib/python3.6/dist-packages (from tensorflow-addons>=0.8.*->keras-detection==0.1) (2.7.1)\n",
            "Requirement already satisfied, skipping upgrade: six in /usr/local/lib/python3.6/dist-packages (from imgaug>=0.4->keras-detection==0.1) (1.12.0)\n",
            "Requirement already satisfied, skipping upgrade: scikit-image>=0.14.2 in /usr/local/lib/python3.6/dist-packages (from imgaug>=0.4->keras-detection==0.1) (0.16.2)\n",
            "Requirement already satisfied, skipping upgrade: Shapely in /usr/local/lib/python3.6/dist-packages (from imgaug>=0.4->keras-detection==0.1) (1.7.0)\n",
            "Requirement already satisfied, skipping upgrade: opencv-python in /usr/local/lib/python3.6/dist-packages (from imgaug>=0.4->keras-detection==0.1) (4.1.2.30)\n",
            "Requirement already satisfied, skipping upgrade: scipy in /usr/local/lib/python3.6/dist-packages (from imgaug>=0.4->keras-detection==0.1) (1.4.1)\n",
            "Requirement already satisfied, skipping upgrade: Pillow in /usr/local/lib/python3.6/dist-packages (from imgaug>=0.4->keras-detection==0.1) (7.0.0)\n",
            "Requirement already satisfied, skipping upgrade: imageio in /usr/local/lib/python3.6/dist-packages (from imgaug>=0.4->keras-detection==0.1) (2.4.1)\n",
            "Requirement already satisfied, skipping upgrade: mpmath>=0.19 in /usr/local/lib/python3.6/dist-packages (from sympy->tsalib==0.2.1->keras-detection==0.1) (1.1.0)\n",
            "Requirement already satisfied, skipping upgrade: h5py in /usr/local/lib/python3.6/dist-packages (from keras-applications<=1.0.8,>=1.0.7->image-classifiers==1.0.0->keras-detection==0.1) (2.10.0)\n",
            "Requirement already satisfied, skipping upgrade: networkx>=2.0 in /usr/local/lib/python3.6/dist-packages (from scikit-image>=0.14.2->imgaug>=0.4->keras-detection==0.1) (2.4)\n",
            "Requirement already satisfied, skipping upgrade: PyWavelets>=0.4.0 in /usr/local/lib/python3.6/dist-packages (from scikit-image>=0.14.2->imgaug>=0.4->keras-detection==0.1) (1.1.1)\n",
            "Requirement already satisfied, skipping upgrade: decorator>=4.3.0 in /usr/local/lib/python3.6/dist-packages (from networkx>=2.0->scikit-image>=0.14.2->imgaug>=0.4->keras-detection==0.1) (4.4.2)\n",
            "Building wheels for collected packages: keras-detection\n",
            "  Building wheel for keras-detection (setup.py) ... \u001b[?25l\u001b[?25hdone\n",
            "  Created wheel for keras-detection: filename=keras_detection-0.1-cp36-none-any.whl size=74426 sha256=3e1b5e71c721ab7eb9720a7f75150997383ce2519fb3f3df32ee9bd131d0a182\n",
            "  Stored in directory: /tmp/pip-ephem-wheel-cache-wd35awuu/wheels/9c/23/23/2d3299a84b3beda7addbe5f17af1aa74b0e15fd87214803132\n",
            "Successfully built keras-detection\n",
            "Installing collected packages: keras-detection\n",
            "  Found existing installation: keras-detection 0.1\n",
            "    Uninstalling keras-detection-0.1:\n",
            "      Successfully uninstalled keras-detection-0.1\n",
            "Successfully installed keras-detection-0.1\n"
          ],
          "name": "stdout"
        },
        {
          "output_type": "display_data",
          "data": {
            "application/vnd.colab-display-data+json": {
              "pip_warning": {
                "packages": [
                  "keras_detection"
                ]
              }
            }
          },
          "metadata": {
            "tags": []
          }
        }
      ]
    },
    {
      "cell_type": "code",
      "metadata": {
        "colab_type": "code",
        "id": "sEPgqMM5QI7p",
        "colab": {}
      },
      "source": [
        "import tensorflow as tf\n",
        "import numpy as np\n",
        "import matplotlib.pyplot as plt\n",
        "\n",
        "import keras_detection.datasets.datasets_ops as datasets_ops\n",
        "import keras_detection.datasets.random_rectangles as random_rects\n",
        "from keras_detection import ImageData"
      ],
      "execution_count": 0,
      "outputs": []
    },
    {
      "cell_type": "code",
      "metadata": {
        "colab_type": "code",
        "id": "p6e7ck4eQI7x",
        "colab": {}
      },
      "source": [
        "keras = tf.keras"
      ],
      "execution_count": 0,
      "outputs": []
    },
    {
      "cell_type": "code",
      "metadata": {
        "id": "RdYpg3iVeL1Z",
        "colab_type": "code",
        "colab": {}
      },
      "source": [
        "# Run this if you see tensorflow duplicated logs\n",
        "from tensorflow.python.platform.tf_logging import _logger\n",
        "_logger.propagate = False\n",
        "if len(_logger.handlers) > 1:\n",
        "  _logger.handlers.pop(0)"
      ],
      "execution_count": 0,
      "outputs": []
    },
    {
      "cell_type": "markdown",
      "metadata": {
        "colab_type": "text",
        "id": "Py-LndecQ1gK"
      },
      "source": [
        "Random rectangles detection dataset"
      ]
    },
    {
      "cell_type": "code",
      "metadata": {
        "colab_type": "code",
        "id": "zbgK5q_UQI72",
        "outputId": "a0795cc2-98f5-4515-8cc4-fff68c0a7db5",
        "colab": {
          "base_uri": "https://localhost:8080/",
          "height": 55
        }
      },
      "source": [
        "dataset = datasets_ops.from_numpy_generator(\n",
        "    random_rects.create_random_rectangles_dataset_generator(min_max_num_boxes=(5, 20))\n",
        ")\n",
        "dataset"
      ],
      "execution_count": 4,
      "outputs": [
        {
          "output_type": "execute_result",
          "data": {
            "text/plain": [
              "<FlatMapDataset shapes: {features: {image: (None, None, 3)}, labels: {boxes: (None, 4), labels: (None,), weights: (None,)}}, types: {features: {image: tf.uint8}, labels: {boxes: tf.float32, labels: tf.int64, weights: tf.float32}}>"
            ]
          },
          "metadata": {
            "tags": []
          },
          "execution_count": 4
        }
      ]
    },
    {
      "cell_type": "code",
      "metadata": {
        "colab_type": "code",
        "id": "ZPB-A2kFQI76",
        "colab": {}
      },
      "source": [
        "# Benchmark dataset sampling\n",
        "# %timeit next(iter(dataset))"
      ],
      "execution_count": 0,
      "outputs": []
    },
    {
      "cell_type": "code",
      "metadata": {
        "colab_type": "code",
        "id": "AcyESwb0QI7_",
        "outputId": "cdb783dd-879b-441b-d353-5780555e17fa",
        "colab": {
          "base_uri": "https://localhost:8080/",
          "height": 449
        }
      },
      "source": [
        "image_data = ImageData.from_dict(next(iter(dataset)))\n",
        "image_data.draw_boxes(title=\"Random rectangles\")"
      ],
      "execution_count": 6,
      "outputs": [
        {
          "output_type": "execute_result",
          "data": {
            "image/png": "[encoded data removed]",
            "text/plain": [
              "<PIL.PngImagePlugin.PngImageFile image mode=RGBA size=432x432 at 0x7F8CF00FB470>"
            ]
          },
          "metadata": {
            "tags": []
          },
          "execution_count": 6
        }
      ]
    },
    {
      "cell_type": "markdown",
      "metadata": {
        "colab_type": "text",
        "id": "5ZgNu-4YREM5"
      },
      "source": [
        "# Build dataset (batched) and FPN detection model "
      ]
    },
    {
      "cell_type": "code",
      "metadata": {
        "colab_type": "code",
        "id": "mGmNgqmKQI8D",
        "colab": {}
      },
      "source": [
        "import keras_detection.datasets.datasets_ops as datasets_ops\n",
        "\n",
        "def aug_fn(image_data: ImageData) -> ImageData:\n",
        "    image = tf.cast(image_data.features.image, tf.float32)\n",
        "    # example augmentation \n",
        "    image = tf.image.random_brightness(image, max_delta=1.2)\n",
        "    return image_data.replace_image(image)\n",
        "\n",
        "\n",
        "image_dim = 224\n",
        "batch_size = 32\n",
        "shuffle_buffer_size = 1 # we don't have to shuffle random rectangles dataset\n",
        "num_classes = 9 # random rectangles have 9 classes\n",
        "num_parallel_calls = tf.data.experimental.AUTOTUNE"
      ],
      "execution_count": 0,
      "outputs": []
    },
    {
      "cell_type": "code",
      "metadata": {
        "colab_type": "code",
        "id": "DiCo_MkkQI8H",
        "colab": {}
      },
      "source": [
        "dataset = datasets_ops.from_numpy_generator(\n",
        "    random_rects.create_random_rectangles_dataset_generator(image_size=(image_dim, image_dim), min_max_num_boxes=(5, 20))\n",
        ")\n",
        "\n",
        "train_dataset = datasets_ops.prepare_dataset(\n",
        "    dataset,\n",
        "    model_image_size=(image_dim, image_dim),\n",
        "    augmentation_fn=aug_fn,\n",
        "    num_epochs=-1,\n",
        "    batch_size=batch_size ,\n",
        "    shuffle_buffer_size=shuffle_buffer_size,\n",
        "    prefetch_buffer_size=4,\n",
        "    num_parallel_calls=num_parallel_calls\n",
        ")"
      ],
      "execution_count": 0,
      "outputs": []
    },
    {
      "cell_type": "code",
      "metadata": {
        "colab_type": "code",
        "id": "uKSDh_zcQI8L",
        "colab": {}
      },
      "source": [
        "# %timeit next(iter(train_dataset))"
      ],
      "execution_count": 0,
      "outputs": []
    },
    {
      "cell_type": "markdown",
      "metadata": {
        "colab_type": "text",
        "id": "OAFwignURQ_E"
      },
      "source": [
        "# Build model builder "
      ]
    },
    {
      "cell_type": "code",
      "metadata": {
        "colab_type": "code",
        "id": "M2EPrlGcQI8P",
        "colab": {}
      },
      "source": [
        "from keras_detection import FPNBuilder\n",
        "from keras_detection.tasks import standard_tasks\n",
        "from keras_detection.backbones import resnet\n",
        "from keras_detection.utils import plotting\n",
        "\n",
        "\n",
        "backbone = resnet.ResNetBackbone(\n",
        "    input_shape=(image_dim, image_dim, 3),\n",
        "    units_per_block=(1, 1),\n",
        "    num_last_blocks=1, # number of feature pyramids, setting single feature map\n",
        ")\n",
        "\n",
        "# Setting task quantizable to False will make that only the resnet backbone will be quantized\n",
        "# other layers (tasks (heads) layers) will be trained in full precision.  \n",
        "\n",
        "tasks = [\n",
        "    # predicts objectnes score for each anchor\n",
        "    standard_tasks.get_objectness_task(label_smoothing=0.02, obj_class=\"center_ignore_margin\", quantizable=False),\n",
        "    # predicts [height, with, y_center, x_center] location of the box\n",
        "    standard_tasks.get_box_shape_task(\"box_shape\", quantizable=False),\n",
        "    # predicts [num_classes] for each anchor (focal loss is not supported yet)\n",
        "    standard_tasks.get_multiclass_task(num_classes, fl_gamma=0.0, label_smoothing=0, activation='softmax', quantizable=False),\n",
        "]\n",
        "\n",
        "builder = FPNBuilder(backbone=backbone, tasks=tasks)"
      ],
      "execution_count": 0,
      "outputs": []
    },
    {
      "cell_type": "code",
      "metadata": {
        "colab_type": "code",
        "id": "v4fTRqPhQI8T",
        "outputId": "208bebc2-8c39-4123-fb2f-7add9e2d2a0c",
        "colab": {
          "base_uri": "https://localhost:8080/",
          "height": 90
        }
      },
      "source": [
        "model = builder.build()"
      ],
      "execution_count": 10,
      "outputs": [
        {
          "output_type": "stream",
          "text": [
            "INFO:tensorflow:Input image: (None, 224, 224, 3)\n",
            "INFO:tensorflow:Processing backbone: <keras_detection.backbones.resnet.ResNetBackbone object at 0x7f8ca01a9ac8>\n",
            "INFO:tensorflow:Processing feature maps for tasks: ['objectness', 'box_shape', 'classes']\n",
            "INFO:tensorflow: Processing feature map (fm28x28)\n"
          ],
          "name": "stdout"
        }
      ]
    },
    {
      "cell_type": "code",
      "metadata": {
        "colab_type": "code",
        "id": "LbYP0SAjQI8a",
        "outputId": "edba87b2-7124-477c-c595-b1226b994a69",
        "colab": {
          "base_uri": "https://localhost:8080/",
          "height": 490
        }
      },
      "source": [
        "model.summary()"
      ],
      "execution_count": 9,
      "outputs": [
        {
          "output_type": "stream",
          "text": [
            "Model: \"model_1\"\n",
            "__________________________________________________________________________________________________\n",
            "Layer (type)                    Output Shape         Param #     Connected to                     \n",
            "==================================================================================================\n",
            "image (InputLayer)              [(None, 224, 224, 3) 0                                            \n",
            "__________________________________________________________________________________________________\n",
            "tf_op_layer_RealDiv (TensorFlow [(None, 224, 224, 3) 0           image[0][0]                      \n",
            "__________________________________________________________________________________________________\n",
            "model (Model)                   [(None, 56, 56, 64), 317650      tf_op_layer_RealDiv[0][0]        \n",
            "__________________________________________________________________________________________________\n",
            "head/fm28x28/fm28x28/objectness (None, 28, 28, 1)    74113       model[1][1]                      \n",
            "__________________________________________________________________________________________________\n",
            "head/fm28x28/fm28x28/box_shape  (None, 28, 28, 4)    74308       model[1][1]                      \n",
            "__________________________________________________________________________________________________\n",
            "head/fm28x28/fm28x28/classes (M (None, 28, 28, 10)   74698       model[1][1]                      \n",
            "__________________________________________________________________________________________________\n",
            "fm28x28/objectness (Activation) (None, 28, 28, 1)    0           head/fm28x28/fm28x28/objectness[1\n",
            "__________________________________________________________________________________________________\n",
            "fm28x28/box_shape (Activation)  (None, 28, 28, 4)    0           head/fm28x28/fm28x28/box_shape[1]\n",
            "__________________________________________________________________________________________________\n",
            "fm28x28/classes (Softmax)       (None, 28, 28, 10)   0           head/fm28x28/fm28x28/classes[1][0\n",
            "==================================================================================================\n",
            "Total params: 540,769\n",
            "Trainable params: 539,867\n",
            "Non-trainable params: 902\n",
            "__________________________________________________________________________________________________\n"
          ],
          "name": "stdout"
        }
      ]
    },
    {
      "cell_type": "code",
      "metadata": {
        "colab_type": "code",
        "id": "I6Rxw2nsRcG6",
        "colab": {}
      },
      "source": [
        "# check resnet backbone\n",
        "# model.layers[2].summary()"
      ],
      "execution_count": 0,
      "outputs": []
    },
    {
      "cell_type": "markdown",
      "metadata": {
        "colab_type": "text",
        "id": "oFhLzFJrQI8e"
      },
      "source": [
        "## Prepare labels (targets) for objectness, box shape regression and classes"
      ]
    },
    {
      "cell_type": "code",
      "metadata": {
        "colab_type": "code",
        "id": "KKiRhn_bQI8g",
        "colab": {}
      },
      "source": [
        "prepared_train_dataset = train_dataset.map(builder.get_build_training_targets_fn())"
      ],
      "execution_count": 0,
      "outputs": []
    },
    {
      "cell_type": "code",
      "metadata": {
        "colab_type": "code",
        "id": "GQQrXV5xQI8j",
        "outputId": "a0e8f885-5f6c-4eeb-8db5-37fbaeab56cd",
        "colab": {
          "base_uri": "https://localhost:8080/",
          "height": 55
        }
      },
      "source": [
        "prepared_train_dataset"
      ],
      "execution_count": 11,
      "outputs": [
        {
          "output_type": "execute_result",
          "data": {
            "text/plain": [
              "<MapDataset shapes: ({image: (32, 224, 224, 3)}, {fm28x28/objectness: (32, 28, 28, 2), fm28x28/box_shape: (32, 28, 28, 5), fm28x28/classes: (32, 28, 28, 11)}), types: ({image: tf.float32}, {fm28x28/objectness: tf.float32, fm28x28/box_shape: tf.float32, fm28x28/classes: tf.float32})>"
            ]
          },
          "metadata": {
            "tags": []
          },
          "execution_count": 11
        }
      ]
    },
    {
      "cell_type": "code",
      "metadata": {
        "colab_type": "code",
        "id": "Y36jhHVaQI8m",
        "colab": {}
      },
      "source": [
        "features, labels = next(iter(prepared_train_dataset))"
      ],
      "execution_count": 0,
      "outputs": []
    },
    {
      "cell_type": "markdown",
      "metadata": {
        "colab_type": "text",
        "id": "oN-Sy0eZRzsX"
      },
      "source": [
        "Validating targets: objectness, box prediction and class predictions heads"
      ]
    },
    {
      "cell_type": "code",
      "metadata": {
        "colab_type": "code",
        "id": "dNuwcP4OQI8q",
        "outputId": "019240d9-df74-49ab-82cd-39e5eb0b829e",
        "colab": {
          "base_uri": "https://localhost:8080/",
          "height": 450
        }
      },
      "source": [
        "fm = \"fm28x28\"\n",
        "\n",
        "targets = [labels[n][..., :-1] for n in builder.get_outputs_names()]\n",
        "targets = builder.predictions_to_dict(targets, postprocess=True)\n",
        "\n",
        "idx = 0\n",
        "target=dict(\n",
        "    objectness=targets[f'{fm}/objectness'][idx],\n",
        "    boxes_shape_map=targets[f'{fm}/box_shape'][idx],\n",
        "    classes_map=targets[f'{fm}/classes'][idx],\n",
        ")\n",
        "\n",
        "render = plotting.draw_compares(    \n",
        "    target=target,\n",
        "    predicted=None,\n",
        "    all_targets=True,\n",
        "    draw_fns=[\n",
        "        plotting.draw_boxes, \n",
        "        plotting.draw_classes_map,\n",
        "        plotting.draw_objectness_map,\n",
        "        plotting.draw_classes_max_score_map,\n",
        "    ],\n",
        "    image=features['image'][idx] / 255,\n",
        "    score_threshold=0.2, \n",
        ")\n",
        "render"
      ],
      "execution_count": 13,
      "outputs": [
        {
          "output_type": "stream",
          "text": [
            "Clipping input data to the valid range for imshow with RGB data ([0..1] for floats or [0..255] for integers).\n",
            "Clipping input data to the valid range for imshow with RGB data ([0..1] for floats or [0..255] for integers).\n",
            "Clipping input data to the valid range for imshow with RGB data ([0..1] for floats or [0..255] for integers).\n",
            "Clipping input data to the valid range for imshow with RGB data ([0..1] for floats or [0..255] for integers).\n"
          ],
          "name": "stderr"
        },
        {
          "output_type": "execute_result",
          "data": {
            "image/png": "[encoded data removed]",
            "text/plain": [
              "<PIL.Image.Image image mode=RGBA size=1440x360 at 0x7FA17AD48DD8>"
            ]
          },
          "metadata": {
            "tags": []
          },
          "execution_count": 13
        }
      ]
    },
    {
      "cell_type": "markdown",
      "metadata": {
        "colab_type": "text",
        "id": "aU89KJG2R82K"
      },
      "source": [
        "# Train standard Keras model and export to TFLite "
      ]
    },
    {
      "cell_type": "code",
      "metadata": {
        "colab_type": "code",
        "id": "Hwwnj604QI8t",
        "colab": {}
      },
      "source": [
        "import keras_detection.models.utils as kd_utils\n",
        "\n",
        "l2_reg_fn = kd_utils.get_l2_loss_fn(l2_reg=1e-5, model=model)\n",
        "model.add_loss(l2_reg_fn)"
      ],
      "execution_count": 0,
      "outputs": []
    },
    {
      "cell_type": "code",
      "metadata": {
        "colab_type": "code",
        "id": "IzLfJ2dsQI8x",
        "outputId": "1f75d2e5-57c7-472f-c2dc-3c5827caa721",
        "colab": {
          "base_uri": "https://localhost:8080/",
          "height": 237
        }
      },
      "source": [
        "optimizer = keras.optimizers.Adam(learning_rate=0.001, beta_2=0.995)\n",
        "model.compile(optimizer, **builder.get_model_compile_args())\n",
        "model.fit(prepared_train_dataset, epochs=5, steps_per_epoch=500)"
      ],
      "execution_count": 15,
      "outputs": [
        {
          "output_type": "stream",
          "text": [
            "Epoch 1/5\n",
            "500/500 [==============================] - 50s 99ms/step - loss: 0.3900 - fm28x28/objectness_loss: 0.0640 - fm28x28/box_shape_loss: 0.0121 - fm28x28/classes_loss: 0.1844 - fm28x28/objectness_ObjectnessPrecisionAT20pc: 0.1568 - fm28x28/objectness_ObjectnessRecallAT20pc: 0.9647 - fm28x28/objectness_ObjectnessPositivesMeanScore: 0.8923 - fm28x28/objectness_ObjectnessNegativesMeanScore: 0.0858 - fm28x28/classes_MulticlassAccuracyMetric: 0.7115\n",
            "Epoch 2/5\n",
            "500/500 [==============================] - 50s 100ms/step - loss: 0.1297 - fm28x28/objectness_loss: 0.0204 - fm28x28/box_shape_loss: 0.0069 - fm28x28/classes_loss: 0.0204 - fm28x28/objectness_ObjectnessPrecisionAT20pc: 0.2003 - fm28x28/objectness_ObjectnessRecallAT20pc: 0.9695 - fm28x28/objectness_ObjectnessPositivesMeanScore: 0.9327 - fm28x28/objectness_ObjectnessNegativesMeanScore: 0.0485 - fm28x28/classes_MulticlassAccuracyMetric: 0.9161\n",
            "Epoch 3/5\n",
            "500/500 [==============================] - 50s 100ms/step - loss: 0.1073 - fm28x28/objectness_loss: 0.0182 - fm28x28/box_shape_loss: 0.0055 - fm28x28/classes_loss: 0.0147 - fm28x28/objectness_ObjectnessPrecisionAT20pc: 0.2124 - fm28x28/objectness_ObjectnessRecallAT20pc: 0.9717 - fm28x28/objectness_ObjectnessPositivesMeanScore: 0.9375 - fm28x28/objectness_ObjectnessNegativesMeanScore: 0.0453 - fm28x28/classes_MulticlassAccuracyMetric: 0.9383\n",
            "Epoch 4/5\n",
            "500/500 [==============================] - 49s 99ms/step - loss: 0.0998 - fm28x28/objectness_loss: 0.0176 - fm28x28/box_shape_loss: 0.0051 - fm28x28/classes_loss: 0.0130 - fm28x28/objectness_ObjectnessPrecisionAT20pc: 0.2217 - fm28x28/objectness_ObjectnessRecallAT20pc: 0.9726 - fm28x28/objectness_ObjectnessPositivesMeanScore: 0.9394 - fm28x28/objectness_ObjectnessNegativesMeanScore: 0.0430 - fm28x28/classes_MulticlassAccuracyMetric: 0.9433\n",
            "Epoch 5/5\n",
            "500/500 [==============================] - 50s 99ms/step - loss: 0.0931 - fm28x28/objectness_loss: 0.0172 - fm28x28/box_shape_loss: 0.0047 - fm28x28/classes_loss: 0.0121 - fm28x28/objectness_ObjectnessPrecisionAT20pc: 0.2264 - fm28x28/objectness_ObjectnessRecallAT20pc: 0.9729 - fm28x28/objectness_ObjectnessPositivesMeanScore: 0.9405 - fm28x28/objectness_ObjectnessNegativesMeanScore: 0.0418 - fm28x28/classes_MulticlassAccuracyMetric: 0.9465\n"
          ],
          "name": "stdout"
        },
        {
          "output_type": "execute_result",
          "data": {
            "text/plain": [
              "<tensorflow.python.keras.callbacks.History at 0x7fa17a645d30>"
            ]
          },
          "metadata": {
            "tags": []
          },
          "execution_count": 15
        }
      ]
    },
    {
      "cell_type": "code",
      "metadata": {
        "id": "hejFTMypZwlH",
        "colab_type": "code",
        "colab": {
          "base_uri": "https://localhost:8080/",
          "height": 128
        },
        "outputId": "f83cd8b3-b1b8-46f8-d212-be6a6676e9d6"
      },
      "source": [
        "optimizer = keras.optimizers.Adam(learning_rate=0.0005, beta_2=0.995)\n",
        "model.compile(optimizer, **builder.get_model_compile_args())\n",
        "model.fit(prepared_train_dataset, epochs=2, steps_per_epoch=500)"
      ],
      "execution_count": 19,
      "outputs": [
        {
          "output_type": "stream",
          "text": [
            "Epoch 1/2\n",
            "500/500 [==============================] - 50s 100ms/step - loss: 0.0869 - fm28x28/objectness_loss: 0.0169 - fm28x28/box_shape_loss: 0.0043 - fm28x28/classes_loss: 0.0113 - fm28x28/objectness_ObjectnessPrecisionAT20pc: 0.2323 - fm28x28/objectness_ObjectnessRecallAT20pc: 0.9727 - fm28x28/objectness_ObjectnessPositivesMeanScore: 0.9419 - fm28x28/objectness_ObjectnessNegativesMeanScore: 0.0408 - fm28x28/classes_MulticlassAccuracyMetric: 0.9482\n",
            "Epoch 2/2\n",
            "500/500 [==============================] - 50s 100ms/step - loss: 0.0832 - fm28x28/objectness_loss: 0.0167 - fm28x28/box_shape_loss: 0.0041 - fm28x28/classes_loss: 0.0109 - fm28x28/objectness_ObjectnessPrecisionAT20pc: 0.2333 - fm28x28/objectness_ObjectnessRecallAT20pc: 0.9733 - fm28x28/objectness_ObjectnessPositivesMeanScore: 0.9418 - fm28x28/objectness_ObjectnessNegativesMeanScore: 0.0403 - fm28x28/classes_MulticlassAccuracyMetric: 0.9494\n"
          ],
          "name": "stdout"
        },
        {
          "output_type": "execute_result",
          "data": {
            "text/plain": [
              "<tensorflow.python.keras.callbacks.History at 0x7fa17b249f60>"
            ]
          },
          "metadata": {
            "tags": []
          },
          "execution_count": 19
        }
      ]
    },
    {
      "cell_type": "code",
      "metadata": {
        "colab_type": "code",
        "id": "Z0EpQLrIQI81",
        "colab": {}
      },
      "source": [
        "!mkdir --parents models\n",
        "model.save_weights(\"models/non-quantized-model.h5\")"
      ],
      "execution_count": 0,
      "outputs": []
    },
    {
      "cell_type": "code",
      "metadata": {
        "colab_type": "code",
        "id": "8gHbMdIoTEdd",
        "colab": {}
      },
      "source": [
        "model.load_weights(\"models/non-quantized-model.h5\")"
      ],
      "execution_count": 0,
      "outputs": []
    },
    {
      "cell_type": "markdown",
      "metadata": {
        "colab_type": "text",
        "id": "D8x6WNeFS_Rv"
      },
      "source": [
        "## Test trained model"
      ]
    },
    {
      "cell_type": "code",
      "metadata": {
        "colab_type": "code",
        "id": "TuCz3T8VS0Uf",
        "colab": {
          "base_uri": "https://localhost:8080/",
          "height": 334
        },
        "outputId": "51d2bc57-3d53-4e52-978d-1ab624afee7a"
      },
      "source": [
        "def draw_predictions(model, features, labels, idx = 0, fm = \"fm28x28\", score_threshold = 0.5):\n",
        "  \n",
        "  predictions = model.predict(features)\n",
        "  predictions = builder.predictions_to_dict(predictions, postprocess=True)\n",
        "\n",
        "  \n",
        "  targets = [labels[n][..., :-1] for n in builder.get_outputs_names()]\n",
        "  targets = builder.predictions_to_dict(targets, postprocess=True)\n",
        "\n",
        "  target=dict(\n",
        "      objectness=targets[f'{fm}/objectness'][idx],\n",
        "      boxes_shape_map=targets[f'{fm}/box_shape'][idx],\n",
        "      classes_map=targets[f'{fm}/classes'][idx],\n",
        "  )\n",
        "\n",
        "  predicted=dict(\n",
        "      objectness=predictions[f'{fm}/objectness'][idx],\n",
        "      boxes_shape_map=predictions[f'{fm}/box_shape'][idx],\n",
        "      classes_map=predictions[f'{fm}/classes'][idx],\n",
        "  )\n",
        "\n",
        "  render = plotting.draw_compares(    \n",
        "      target=target,\n",
        "      predicted=predicted,\n",
        "      draw_fns=[\n",
        "          plotting.draw_boxes, \n",
        "          plotting.draw_classes_map,\n",
        "          plotting.draw_objectness_map,\n",
        "          plotting.draw_classes_max_score_map,\n",
        "      ],\n",
        "      image=features['image'][idx] / 255,\n",
        "      score_threshold=score_threshold,\n",
        "  )\n",
        "  return render\n",
        "\n",
        "features, labels = next(iter(prepared_train_dataset))\n",
        "draw_predictions(model, features, labels, fm = \"fm28x28\")"
      ],
      "execution_count": 21,
      "outputs": [
        {
          "output_type": "execute_result",
          "data": {
            "image/png": "[encoded data removed]",
            "text/plain": [
              "<PIL.Image.Image image mode=RGBA size=1800x360 at 0x7FA1045F7240>"
            ]
          },
          "metadata": {
            "tags": []
          },
          "execution_count": 21
        }
      ]
    },
    {
      "cell_type": "markdown",
      "metadata": {
        "colab_type": "text",
        "id": "1ZBTnWiGUhyB"
      },
      "source": [
        "## Export model to tflite"
      ]
    },
    {
      "cell_type": "code",
      "metadata": {
        "colab_type": "code",
        "id": "dqhxOzL1UD97",
        "outputId": "1fec2271-2984-49d6-a58f-2d95ce4fda1a",
        "colab": {
          "base_uri": "https://localhost:8080/",
          "height": 1000
        }
      },
      "source": [
        "# creates two versions of the model:  \n",
        "#  - models/non-quantized-model.tflite\n",
        "#  - models/non-quantized-model-quantized.tflite (for this representative dataset is used to accumulate stats)\n",
        "\n",
        "exported_model, tflite_models_paths = builder.convert_to_tflite(    \n",
        "    model, \n",
        "    save_path=\"models/non-quantized-model.tflite\", \n",
        "    export_batch_size = 1,\n",
        "    raw_dataset = dataset,  # dataset to the test the stats between (per image data)\n",
        "    num_dataset_samples = 32, # representative dataset number of samples\n",
        "    num_test_steps = 16, # number of images used to test output statistics\n",
        "    merge_feature_maps=True,  # merge FPN feature maps into single tensor of shape [1, num_anchors, num_outputs]\n",
        "    postprocess_outputs=True,  # apply post processing on head outputs e.g. decode box coordinates to [height, width, y_center, x_center]\n",
        "    convert_quantized_model=True # Use represenetative dataset to create integer quantized model\n",
        ")"
      ],
      "execution_count": 25,
      "outputs": [
        {
          "output_type": "stream",
          "text": [
            "INFO:tensorflow:Preparing dataset for export of quantized model\n",
            "INFO:tensorflow:Merging feature maps\n",
            "INFO:tensorflow:Export outputs\n",
            "INFO:tensorflow:- objectness           - Tensor(\"objectness/Identity:0\", shape=(1, 784), dtype=float32)\n",
            "INFO:tensorflow:- box_shape            - Tensor(\"box_shape/Identity:0\", shape=(1, 784, 4), dtype=float32)\n",
            "INFO:tensorflow:- classes              - Tensor(\"classes/Identity:0\", shape=(1, 784, 9), dtype=float32)\n",
            "INFO:tensorflow:Exporting model\n",
            "INFO:tensorflow:Converting model to tflite format \n",
            "INFO:tensorflow:Building TFLite model from Keras Model using optimizations: [<Optimize.DEFAULT: 'DEFAULT'>]\n",
            "INFO:tensorflow:Model converted successfully \n"
          ],
          "name": "stdout"
        },
        {
          "output_type": "stream",
          "text": [
            "INFO:tensorflow:Model converted successfully \n"
          ],
          "name": "stderr"
        },
        {
          "output_type": "stream",
          "text": [
            "INFO:tensorflow:Testing tflite model for N=1 iterations ..\n"
          ],
          "name": "stdout"
        },
        {
          "output_type": "stream",
          "text": [
            "INFO:tensorflow:Testing tflite model for N=1 iterations ..\n"
          ],
          "name": "stderr"
        },
        {
          "output_type": "stream",
          "text": [
            "Input details:\n",
            "{ 'dtype': <class 'numpy.float32'>,\n",
            "  'index': 0,\n",
            "  'name': 'image',\n",
            "  'quantization': (0.0, 0),\n",
            "  'quantization_parameters': { 'quantized_dimension': 0,\n",
            "                               'scales': array([], dtype=float32),\n",
            "                               'zero_points': array([], dtype=int32)},\n",
            "  'shape': array([  1, 224, 224,   3], dtype=int32),\n",
            "  'shape_signature': array([  1, 224, 224,   3], dtype=int32),\n",
            "  'sparsity_parameters': {}}\n",
            "Output details:\n",
            "{ 'dtype': <class 'numpy.float32'>,\n",
            "  'index': 59,\n",
            "  'name': 'export/box_shape/output',\n",
            "  'quantization': (0.0, 0),\n",
            "  'quantization_parameters': { 'quantized_dimension': 0,\n",
            "                               'scales': array([], dtype=float32),\n",
            "                               'zero_points': array([], dtype=int32)},\n",
            "  'shape': array([  1, 784,   4], dtype=int32),\n",
            "  'shape_signature': array([  1, 784,   4], dtype=int32),\n",
            "  'sparsity_parameters': {}}\n",
            "{ 'dtype': <class 'numpy.float32'>,\n",
            "  'index': 64,\n",
            "  'name': 'export/classes/output',\n",
            "  'quantization': (0.0, 0),\n",
            "  'quantization_parameters': { 'quantized_dimension': 0,\n",
            "                               'scales': array([], dtype=float32),\n",
            "                               'zero_points': array([], dtype=int32)},\n",
            "  'shape': array([  1, 784,   9], dtype=int32),\n",
            "  'shape_signature': array([  1, 784,   9], dtype=int32),\n",
            "  'sparsity_parameters': {}}\n",
            "{ 'dtype': <class 'numpy.float32'>,\n",
            "  'index': 69,\n",
            "  'name': 'export/objectness/output',\n",
            "  'quantization': (0.0, 0),\n",
            "  'quantization_parameters': { 'quantized_dimension': 0,\n",
            "                               'scales': array([], dtype=float32),\n",
            "                               'zero_points': array([], dtype=int32)},\n",
            "  'shape': array([  1, 784], dtype=int32),\n",
            "  'shape_signature': array([  1, 784], dtype=int32),\n",
            "  'sparsity_parameters': {}}\n",
            "INFO:tensorflow:Test finished in 0.066985 seconds\n"
          ],
          "name": "stdout"
        },
        {
          "output_type": "stream",
          "text": [
            "INFO:tensorflow:Test finished in 0.066985 seconds\n"
          ],
          "name": "stderr"
        },
        {
          "output_type": "stream",
          "text": [
            "INFO:tensorflow:Model saved to models/non-quantized-model.tflite\n"
          ],
          "name": "stdout"
        },
        {
          "output_type": "stream",
          "text": [
            "INFO:tensorflow:Model saved to models/non-quantized-model.tflite\n"
          ],
          "name": "stderr"
        },
        {
          "output_type": "stream",
          "text": [
            "INFO:tensorflow:Converting quantized model\n"
          ],
          "name": "stdout"
        },
        {
          "output_type": "stream",
          "text": [
            "INFO:tensorflow:Converting quantized model\n"
          ],
          "name": "stderr"
        },
        {
          "output_type": "stream",
          "text": [
            "INFO:tensorflow:Model converted successfully \n"
          ],
          "name": "stdout"
        },
        {
          "output_type": "stream",
          "text": [
            "INFO:tensorflow:Model converted successfully \n"
          ],
          "name": "stderr"
        },
        {
          "output_type": "stream",
          "text": [
            "INFO:tensorflow:Testing tflite model for N=1 iterations ..\n"
          ],
          "name": "stdout"
        },
        {
          "output_type": "stream",
          "text": [
            "INFO:tensorflow:Testing tflite model for N=1 iterations ..\n"
          ],
          "name": "stderr"
        },
        {
          "output_type": "stream",
          "text": [
            "Input details:\n",
            "{ 'dtype': <class 'numpy.float32'>,\n",
            "  'index': 70,\n",
            "  'name': 'image',\n",
            "  'quantization': (0.0, 0),\n",
            "  'quantization_parameters': { 'quantized_dimension': 0,\n",
            "                               'scales': array([], dtype=float32),\n",
            "                               'zero_points': array([], dtype=int32)},\n",
            "  'shape': array([  1, 224, 224,   3], dtype=int32),\n",
            "  'shape_signature': array([  1, 224, 224,   3], dtype=int32),\n",
            "  'sparsity_parameters': {}}\n",
            "Output details:\n",
            "{ 'dtype': <class 'numpy.float32'>,\n",
            "  'index': 71,\n",
            "  'name': 'export/box_shape/output',\n",
            "  'quantization': (0.0, 0),\n",
            "  'quantization_parameters': { 'quantized_dimension': 0,\n",
            "                               'scales': array([], dtype=float32),\n",
            "                               'zero_points': array([], dtype=int32)},\n",
            "  'shape': array([  1, 784,   4], dtype=int32),\n",
            "  'shape_signature': array([  1, 784,   4], dtype=int32),\n",
            "  'sparsity_parameters': {}}\n",
            "{ 'dtype': <class 'numpy.float32'>,\n",
            "  'index': 72,\n",
            "  'name': 'export/classes/output',\n",
            "  'quantization': (0.0, 0),\n",
            "  'quantization_parameters': { 'quantized_dimension': 0,\n",
            "                               'scales': array([], dtype=float32),\n",
            "                               'zero_points': array([], dtype=int32)},\n",
            "  'shape': array([  1, 784,   9], dtype=int32),\n",
            "  'shape_signature': array([  1, 784,   9], dtype=int32),\n",
            "  'sparsity_parameters': {}}\n",
            "{ 'dtype': <class 'numpy.float32'>,\n",
            "  'index': 73,\n",
            "  'name': 'export/objectness/output',\n",
            "  'quantization': (0.0, 0),\n",
            "  'quantization_parameters': { 'quantized_dimension': 0,\n",
            "                               'scales': array([], dtype=float32),\n",
            "                               'zero_points': array([], dtype=int32)},\n",
            "  'shape': array([  1, 784], dtype=int32),\n",
            "  'shape_signature': array([  1, 784], dtype=int32),\n",
            "  'sparsity_parameters': {}}\n",
            "INFO:tensorflow:Test finished in 1.871869 seconds\n"
          ],
          "name": "stdout"
        },
        {
          "output_type": "stream",
          "text": [
            "INFO:tensorflow:Test finished in 1.871869 seconds\n"
          ],
          "name": "stderr"
        },
        {
          "output_type": "stream",
          "text": [
            "INFO:tensorflow:Quantized model saved to models/non-quantized-model.quantized.tflite\n"
          ],
          "name": "stdout"
        },
        {
          "output_type": "stream",
          "text": [
            "INFO:tensorflow:Quantized model saved to models/non-quantized-model.quantized.tflite\n"
          ],
          "name": "stderr"
        },
        {
          "output_type": "stream",
          "text": [
            "INFO:tensorflow:Testing converted model: non-quantized-model.tflite\n"
          ],
          "name": "stdout"
        },
        {
          "output_type": "stream",
          "text": [
            "INFO:tensorflow:Testing converted model: non-quantized-model.tflite\n"
          ],
          "name": "stderr"
        },
        {
          "output_type": "stream",
          "text": [
            "INFO:tensorflow:Testing converted model: non-quantized-model.tflite\n"
          ],
          "name": "stdout"
        },
        {
          "output_type": "stream",
          "text": [
            "INFO:tensorflow:Testing converted model: non-quantized-model.tflite\n",
            "100%|██████████| 16/16 [00:01<00:00, 10.50it/s]"
          ],
          "name": "stderr"
        },
        {
          "output_type": "stream",
          "text": [
            "INFO:tensorflow:Measured deviation between keras and tflite model:\n"
          ],
          "name": "stdout"
        },
        {
          "output_type": "stream",
          "text": [
            "\n",
            "INFO:tensorflow:Measured deviation between keras and tflite model:\n"
          ],
          "name": "stderr"
        },
        {
          "output_type": "stream",
          "text": [
            "INFO:tensorflow:\n",
            " - export/objectness/output  \n",
            "\tMAE     =  0.001115 \n",
            "\tRMSE    =  0.005667 \n",
            "\tKeras   = N(μ=  0.054421, σ=  0.197299)\n",
            "\ttflite  = N(μ=  0.054398, σ=  0.197127)\n",
            " - export/box_shape/output   \n",
            "\tMAE     =  0.001186 \n",
            "\tRMSE    =  0.001677 \n",
            "\tKeras   = N(μ=  0.275871, σ=  0.304433)\n",
            "\ttflite  = N(μ=  0.276498, σ=  0.303995)\n",
            " - export/classes/output     \n",
            "\tMAE     =  0.000033 \n",
            "\tRMSE    =  0.000762 \n",
            "\tKeras   = N(μ=  0.001661, σ=  0.035921)\n",
            "\ttflite  = N(μ=  0.001654, σ=  0.035881)\n"
          ],
          "name": "stdout"
        },
        {
          "output_type": "stream",
          "text": [
            "INFO:tensorflow:\n",
            " - export/objectness/output  \n",
            "\tMAE     =  0.001115 \n",
            "\tRMSE    =  0.005667 \n",
            "\tKeras   = N(μ=  0.054421, σ=  0.197299)\n",
            "\ttflite  = N(μ=  0.054398, σ=  0.197127)\n",
            " - export/box_shape/output   \n",
            "\tMAE     =  0.001186 \n",
            "\tRMSE    =  0.001677 \n",
            "\tKeras   = N(μ=  0.275871, σ=  0.304433)\n",
            "\ttflite  = N(μ=  0.276498, σ=  0.303995)\n",
            " - export/classes/output     \n",
            "\tMAE     =  0.000033 \n",
            "\tRMSE    =  0.000762 \n",
            "\tKeras   = N(μ=  0.001661, σ=  0.035921)\n",
            "\ttflite  = N(μ=  0.001654, σ=  0.035881)\n"
          ],
          "name": "stderr"
        },
        {
          "output_type": "stream",
          "text": [
            "INFO:tensorflow:Testing converted model: non-quantized-model.quantized.tflite\n"
          ],
          "name": "stdout"
        },
        {
          "output_type": "stream",
          "text": [
            "INFO:tensorflow:Testing converted model: non-quantized-model.quantized.tflite\n"
          ],
          "name": "stderr"
        },
        {
          "output_type": "stream",
          "text": [
            "INFO:tensorflow:Testing converted model: non-quantized-model.quantized.tflite\n"
          ],
          "name": "stdout"
        },
        {
          "output_type": "stream",
          "text": [
            "INFO:tensorflow:Testing converted model: non-quantized-model.quantized.tflite\n",
            "100%|██████████| 16/16 [00:30<00:00,  1.91s/it]"
          ],
          "name": "stderr"
        },
        {
          "output_type": "stream",
          "text": [
            "INFO:tensorflow:Measured deviation between keras and tflite model:\n"
          ],
          "name": "stdout"
        },
        {
          "output_type": "stream",
          "text": [
            "\n",
            "INFO:tensorflow:Measured deviation between keras and tflite model:\n"
          ],
          "name": "stderr"
        },
        {
          "output_type": "stream",
          "text": [
            "INFO:tensorflow:\n",
            " - export/objectness/output  \n",
            "\tMAE     =  0.001633 \n",
            "\tRMSE    =  0.007339 \n",
            "\tKeras   = N(μ=  0.065923, σ=  0.221597)\n",
            "\ttflite  = N(μ=  0.065700, σ=  0.221018)\n",
            " - export/box_shape/output   \n",
            "\tMAE     =  0.002269 \n",
            "\tRMSE    =  0.002746 \n",
            "\tKeras   = N(μ=  0.279193, σ=  0.301771)\n",
            "\ttflite  = N(μ=  0.278788, σ=  0.302269)\n",
            " - export/classes/output     \n",
            "\tMAE     =  0.000087 \n",
            "\tRMSE    =  0.000970 \n",
            "\tKeras   = N(μ=  0.002029, σ=  0.040027)\n",
            "\ttflite  = N(μ=  0.002004, σ=  0.039895)\n"
          ],
          "name": "stdout"
        },
        {
          "output_type": "stream",
          "text": [
            "INFO:tensorflow:\n",
            " - export/objectness/output  \n",
            "\tMAE     =  0.001633 \n",
            "\tRMSE    =  0.007339 \n",
            "\tKeras   = N(μ=  0.065923, σ=  0.221597)\n",
            "\ttflite  = N(μ=  0.065700, σ=  0.221018)\n",
            " - export/box_shape/output   \n",
            "\tMAE     =  0.002269 \n",
            "\tRMSE    =  0.002746 \n",
            "\tKeras   = N(μ=  0.279193, σ=  0.301771)\n",
            "\ttflite  = N(μ=  0.278788, σ=  0.302269)\n",
            " - export/classes/output     \n",
            "\tMAE     =  0.000087 \n",
            "\tRMSE    =  0.000970 \n",
            "\tKeras   = N(μ=  0.002029, σ=  0.040027)\n",
            "\ttflite  = N(μ=  0.002004, σ=  0.039895)\n"
          ],
          "name": "stderr"
        }
      ]
    },
    {
      "cell_type": "code",
      "metadata": {
        "colab_type": "code",
        "id": "0gZlzPKzU5j8",
        "outputId": "77f8f4c1-eec7-4f19-87f7-614683991715",
        "colab": {
          "base_uri": "https://localhost:8080/",
          "height": 54
        }
      },
      "source": [
        "tflite_models_paths"
      ],
      "execution_count": 26,
      "outputs": [
        {
          "output_type": "execute_result",
          "data": {
            "text/plain": [
              "[PosixPath('models/non-quantized-model.tflite'),\n",
              " PosixPath('models/non-quantized-model.quantized.tflite')]"
            ]
          },
          "metadata": {
            "tags": []
          },
          "execution_count": 26
        }
      ]
    },
    {
      "cell_type": "markdown",
      "metadata": {
        "colab_type": "text",
        "id": "z7dOoW5nWGqY"
      },
      "source": [
        "# Train Quantized model and export to TFLite"
      ]
    },
    {
      "cell_type": "code",
      "metadata": {
        "colab_type": "code",
        "id": "PTkvupjoVcJB",
        "outputId": "83fff5d2-29a0-4527-dd74-5fdb2d0539ae",
        "colab": {
          "base_uri": "https://localhost:8080/",
          "height": 454
        }
      },
      "source": [
        "quantized_model = builder.build_quantized(\n",
        "    batch_size=None, \n",
        "    non_quantized_model_weights=\"models/non-quantized-model.h5\"\n",
        ")"
      ],
      "execution_count": 27,
      "outputs": [
        {
          "output_type": "stream",
          "text": [
            "INFO:tensorflow:Building quantized model with batch_size = None\n"
          ],
          "name": "stdout"
        },
        {
          "output_type": "stream",
          "text": [
            "INFO:tensorflow:Building quantized model with batch_size = None\n"
          ],
          "name": "stderr"
        },
        {
          "output_type": "stream",
          "text": [
            "INFO:tensorflow:Input image: (None, 224, 224, 3)\n"
          ],
          "name": "stdout"
        },
        {
          "output_type": "stream",
          "text": [
            "INFO:tensorflow:Input image: (None, 224, 224, 3)\n"
          ],
          "name": "stderr"
        },
        {
          "output_type": "stream",
          "text": [
            "INFO:tensorflow:Processing backbone: <keras_detection.backbones.resnet.ResNetBackbone object at 0x7fa107f22cf8>\n"
          ],
          "name": "stdout"
        },
        {
          "output_type": "stream",
          "text": [
            "INFO:tensorflow:Processing backbone: <keras_detection.backbones.resnet.ResNetBackbone object at 0x7fa107f22cf8>\n"
          ],
          "name": "stderr"
        },
        {
          "output_type": "stream",
          "text": [
            "INFO:tensorflow:Processing feature maps for tasks: ['objectness', 'box_shape', 'classes']\n"
          ],
          "name": "stdout"
        },
        {
          "output_type": "stream",
          "text": [
            "INFO:tensorflow:Processing feature maps for tasks: ['objectness', 'box_shape', 'classes']\n"
          ],
          "name": "stderr"
        },
        {
          "output_type": "stream",
          "text": [
            "INFO:tensorflow: Processing feature map (fm28x28)\n"
          ],
          "name": "stdout"
        },
        {
          "output_type": "stream",
          "text": [
            "INFO:tensorflow: Processing feature map (fm28x28)\n"
          ],
          "name": "stderr"
        },
        {
          "output_type": "stream",
          "text": [
            "INFO:tensorflow:Loading weights of base model: models/non-quantized-model.h5\n"
          ],
          "name": "stdout"
        },
        {
          "output_type": "stream",
          "text": [
            "INFO:tensorflow:Loading weights of base model: models/non-quantized-model.h5\n"
          ],
          "name": "stderr"
        },
        {
          "output_type": "stream",
          "text": [
            "INFO:tensorflow:Building graph with quantization enabled\n"
          ],
          "name": "stdout"
        },
        {
          "output_type": "stream",
          "text": [
            "INFO:tensorflow:Building graph with quantization enabled\n"
          ],
          "name": "stderr"
        },
        {
          "output_type": "stream",
          "text": [
            "INFO:tensorflow:Input image: (None, 224, 224, 3)\n"
          ],
          "name": "stdout"
        },
        {
          "output_type": "stream",
          "text": [
            "INFO:tensorflow:Input image: (None, 224, 224, 3)\n"
          ],
          "name": "stderr"
        },
        {
          "output_type": "stream",
          "text": [
            "INFO:tensorflow:Processing backbone: <keras_detection.backbones.resnet.ResNetBackbone object at 0x7fa107f22cf8>\n"
          ],
          "name": "stdout"
        },
        {
          "output_type": "stream",
          "text": [
            "INFO:tensorflow:Processing backbone: <keras_detection.backbones.resnet.ResNetBackbone object at 0x7fa107f22cf8>\n"
          ],
          "name": "stderr"
        },
        {
          "output_type": "stream",
          "text": [
            "INFO:tensorflow:Running quantization for model backbone: model\n"
          ],
          "name": "stdout"
        },
        {
          "output_type": "stream",
          "text": [
            "INFO:tensorflow:Running quantization for model backbone: model\n"
          ],
          "name": "stderr"
        },
        {
          "output_type": "stream",
          "text": [
            "INFO:tensorflow:Processing feature maps for tasks: ['objectness', 'box_shape', 'classes']\n"
          ],
          "name": "stdout"
        },
        {
          "output_type": "stream",
          "text": [
            "INFO:tensorflow:Processing feature maps for tasks: ['objectness', 'box_shape', 'classes']\n"
          ],
          "name": "stderr"
        },
        {
          "output_type": "stream",
          "text": [
            "INFO:tensorflow: Processing feature map (fm28x28)\n"
          ],
          "name": "stdout"
        },
        {
          "output_type": "stream",
          "text": [
            "INFO:tensorflow: Processing feature map (fm28x28)\n"
          ],
          "name": "stderr"
        }
      ]
    },
    {
      "cell_type": "code",
      "metadata": {
        "id": "blFOjvnqbZM4",
        "colab_type": "code",
        "colab": {}
      },
      "source": [
        "# Run this if you see tensorflow duplicated logs\n",
        "from tensorflow.python.platform.tf_logging import _logger\n",
        "if len(_logger.handlers) > 1:\n",
        "  _logger.handlers.pop(0)"
      ],
      "execution_count": 0,
      "outputs": []
    },
    {
      "cell_type": "code",
      "metadata": {
        "colab_type": "code",
        "id": "HgOJRXkzWMwQ",
        "outputId": "a60a2d51-0746-40f7-a11c-c01b4b4151ef",
        "colab": {
          "base_uri": "https://localhost:8080/",
          "height": 490
        }
      },
      "source": [
        "# heads are not quantized (they have quantizable = Fales)\n",
        "quantized_model.summary()"
      ],
      "execution_count": 29,
      "outputs": [
        {
          "output_type": "stream",
          "text": [
            "Model: \"model_3\"\n",
            "__________________________________________________________________________________________________\n",
            "Layer (type)                    Output Shape         Param #     Connected to                     \n",
            "==================================================================================================\n",
            "image (InputLayer)              [(None, 224, 224, 3) 0                                            \n",
            "__________________________________________________________________________________________________\n",
            "tf_op_layer_RealDiv_3 (TensorFl [(None, 224, 224, 3) 0           image[0][0]                      \n",
            "__________________________________________________________________________________________________\n",
            "model (Model)                   [(None, 56, 56, 64), 318989      tf_op_layer_RealDiv_3[0][0]      \n",
            "__________________________________________________________________________________________________\n",
            "head/fm28x28/fm28x28/objectness (None, 28, 28, 1)    74113       model[1][1]                      \n",
            "__________________________________________________________________________________________________\n",
            "head/fm28x28/fm28x28/box_shape  (None, 28, 28, 4)    74308       model[1][1]                      \n",
            "__________________________________________________________________________________________________\n",
            "head/fm28x28/fm28x28/classes (M (None, 28, 28, 10)   74698       model[1][1]                      \n",
            "__________________________________________________________________________________________________\n",
            "fm28x28/objectness (Activation) (None, 28, 28, 1)    0           head/fm28x28/fm28x28/objectness[2\n",
            "__________________________________________________________________________________________________\n",
            "fm28x28/box_shape (Activation)  (None, 28, 28, 4)    0           head/fm28x28/fm28x28/box_shape[2]\n",
            "__________________________________________________________________________________________________\n",
            "fm28x28/classes (Softmax)       (None, 28, 28, 10)   0           head/fm28x28/fm28x28/classes[2][0\n",
            "==================================================================================================\n",
            "Total params: 542,108\n",
            "Trainable params: 539,867\n",
            "Non-trainable params: 2,241\n",
            "__________________________________________________________________________________________________\n"
          ],
          "name": "stdout"
        }
      ]
    },
    {
      "cell_type": "code",
      "metadata": {
        "colab_type": "code",
        "id": "NUDMIv_UWP9v",
        "outputId": "973c4577-3fef-440a-8d43-a5c7140f916f",
        "colab": {
          "base_uri": "https://localhost:8080/",
          "height": 1000
        }
      },
      "source": [
        "# check if resnet is quantized\n",
        "quantized_model.layers[2].summary()"
      ],
      "execution_count": 30,
      "outputs": [
        {
          "output_type": "stream",
          "text": [
            "Model: \"model\"\n",
            "__________________________________________________________________________________________________\n",
            "Layer (type)                    Output Shape         Param #     Connected to                     \n",
            "==================================================================================================\n",
            "image (InputLayer)              [(None, 224, 224, 3) 0                                            \n",
            "__________________________________________________________________________________________________\n",
            "quantize_layer (QuantizeLayer)  (None, 224, 224, 3)  3           image[0][0]                      \n",
            "__________________________________________________________________________________________________\n",
            "quant_conv0-pre (QuantizeWrappe (None, 224, 224, 3)  16          quantize_layer[1][0]             \n",
            "__________________________________________________________________________________________________\n",
            "quant_bn_data (QuantizeWrapper) (None, 224, 224, 3)  12          quant_conv0-pre[0][0]            \n",
            "__________________________________________________________________________________________________\n",
            "quant_zero_padding2d (QuantizeW (None, 230, 230, 3)  1           quant_bn_data[0][0]              \n",
            "__________________________________________________________________________________________________\n",
            "quant_conv0 (QuantizeWrapper)   (None, 112, 112, 64) 9537        quant_zero_padding2d[0][0]       \n",
            "__________________________________________________________________________________________________\n",
            "quant_bn0 (QuantizeWrapper)     (None, 112, 112, 64) 257         quant_conv0[0][0]                \n",
            "__________________________________________________________________________________________________\n",
            "quant_relu0 (QuantizeWrapper)   (None, 112, 112, 64) 3           quant_bn0[0][0]                  \n",
            "__________________________________________________________________________________________________\n",
            "quant_zero_padding2d_1 (Quantiz (None, 114, 114, 64) 1           quant_relu0[0][0]                \n",
            "__________________________________________________________________________________________________\n",
            "quant_pooling0 (QuantizeWrapper (None, 56, 56, 64)   1           quant_zero_padding2d_1[0][0]     \n",
            "__________________________________________________________________________________________________\n",
            "quant_stage1_unit1_relu1 (Quant (None, 56, 56, 64)   3           quant_pooling0[0][0]             \n",
            "__________________________________________________________________________________________________\n",
            "quant_zero_padding2d_2 (Quantiz (None, 58, 58, 64)   1           quant_stage1_unit1_relu1[0][0]   \n",
            "__________________________________________________________________________________________________\n",
            "quant_stage1_unit1_conv1 (Quant (None, 56, 56, 64)   36993       quant_zero_padding2d_2[0][0]     \n",
            "__________________________________________________________________________________________________\n",
            "quant_stage1_unit1_bn2 (Quantiz (None, 56, 56, 64)   257         quant_stage1_unit1_conv1[0][0]   \n",
            "__________________________________________________________________________________________________\n",
            "quant_stage1_unit1_relu2 (Quant (None, 56, 56, 64)   3           quant_stage1_unit1_bn2[0][0]     \n",
            "__________________________________________________________________________________________________\n",
            "quant_zero_padding2d_3 (Quantiz (None, 58, 58, 64)   1           quant_stage1_unit1_relu2[0][0]   \n",
            "__________________________________________________________________________________________________\n",
            "quant_stage1_unit1_conv2 (Quant (None, 56, 56, 64)   36995       quant_zero_padding2d_3[0][0]     \n",
            "__________________________________________________________________________________________________\n",
            "quant_stage1_unit1_sc (Quantize (None, 56, 56, 64)   4227        quant_stage1_unit1_relu1[0][0]   \n",
            "__________________________________________________________________________________________________\n",
            "quant_add (QuantizeWrapper)     (None, 56, 56, 64)   3           quant_stage1_unit1_conv2[0][0]   \n",
            "                                                                 quant_stage1_unit1_sc[0][0]      \n",
            "__________________________________________________________________________________________________\n",
            "quant_stage2_unit1_relu1 (Quant (None, 56, 56, 64)   3           quant_add[0][0]                  \n",
            "__________________________________________________________________________________________________\n",
            "quant_zero_padding2d_4 (Quantiz (None, 58, 58, 64)   1           quant_stage2_unit1_relu1[0][0]   \n",
            "__________________________________________________________________________________________________\n",
            "quant_stage2_unit1_conv1 (Quant (None, 28, 28, 128)  73985       quant_zero_padding2d_4[0][0]     \n",
            "__________________________________________________________________________________________________\n",
            "quant_stage2_unit1_bn2 (Quantiz (None, 28, 28, 128)  513         quant_stage2_unit1_conv1[0][0]   \n",
            "__________________________________________________________________________________________________\n",
            "quant_stage2_unit1_relu2 (Quant (None, 28, 28, 128)  3           quant_stage2_unit1_bn2[0][0]     \n",
            "__________________________________________________________________________________________________\n",
            "quant_zero_padding2d_5 (Quantiz (None, 30, 30, 128)  1           quant_stage2_unit1_relu2[0][0]   \n",
            "__________________________________________________________________________________________________\n",
            "quant_stage2_unit1_conv2 (Quant (None, 28, 28, 128)  147715      quant_zero_padding2d_5[0][0]     \n",
            "__________________________________________________________________________________________________\n",
            "quant_stage2_unit1_sc (Quantize (None, 28, 28, 128)  8451        quant_stage2_unit1_relu1[0][0]   \n",
            "__________________________________________________________________________________________________\n",
            "quant_add_1 (QuantizeWrapper)   (None, 28, 28, 128)  3           quant_stage2_unit1_conv2[0][0]   \n",
            "                                                                 quant_stage2_unit1_sc[0][0]      \n",
            "==================================================================================================\n",
            "Total params: 318,989\n",
            "Trainable params: 317,132\n",
            "Non-trainable params: 1,857\n",
            "__________________________________________________________________________________________________\n"
          ],
          "name": "stdout"
        }
      ]
    },
    {
      "cell_type": "code",
      "metadata": {
        "id": "iiJRnJDtbczP",
        "colab_type": "code",
        "colab": {
          "base_uri": "https://localhost:8080/",
          "height": 345
        },
        "outputId": "0c488ff2-0029-4e19-d030-16b1fd983008"
      },
      "source": [
        "# check first head\n",
        "quantized_model.layers[3].summary()"
      ],
      "execution_count": 31,
      "outputs": [
        {
          "output_type": "stream",
          "text": [
            "Model: \"head/fm28x28/fm28x28/objectness\"\n",
            "_________________________________________________________________\n",
            "Layer (type)                 Output Shape              Param #   \n",
            "=================================================================\n",
            "input_4 (InputLayer)         [(None, 28, 28, 128)]     0         \n",
            "_________________________________________________________________\n",
            "conv2d_6 (Conv2D)            (None, 28, 28, 64)        73792     \n",
            "_________________________________________________________________\n",
            "batch_normalization_3 (Batch (None, 28, 28, 64)        256       \n",
            "_________________________________________________________________\n",
            "re_lu_3 (ReLU)               (None, 28, 28, 64)        0         \n",
            "_________________________________________________________________\n",
            "conv2d_7 (Conv2D)            (None, 28, 28, 1)         65        \n",
            "=================================================================\n",
            "Total params: 74,113\n",
            "Trainable params: 73,985\n",
            "Non-trainable params: 128\n",
            "_________________________________________________________________\n"
          ],
          "name": "stdout"
        }
      ]
    },
    {
      "cell_type": "code",
      "metadata": {
        "colab_type": "code",
        "id": "rT8X1NtiWbes",
        "outputId": "4cb9fec8-3fac-4b2e-ed89-64959e7317b2",
        "colab": {
          "base_uri": "https://localhost:8080/",
          "height": 219
        }
      },
      "source": [
        "# test metrics after quantization, they should be worse\n",
        "# we can evaluate on train dataset since every batch is different\n",
        "builder.evaluate_model(quantized_model, train_dataset, 100)"
      ],
      "execution_count": 32,
      "outputs": [
        {
          "output_type": "stream",
          "text": [
            "100/100 [==============================] - 10s 96ms/step - loss: 0.2518 - fm28x28/objectness_loss: 0.0208 - fm28x28/box_shape_loss: 0.0214 - fm28x28/classes_loss: 0.0168 - fm28x28/objectness_ObjectnessPrecisionAT20pc: 0.2155 - fm28x28/objectness_ObjectnessRecallAT20pc: 0.9696 - fm28x28/objectness_ObjectnessPositivesMeanScore: 0.8919 - fm28x28/objectness_ObjectnessNegativesMeanScore: 0.0423 - fm28x28/classes_MulticlassAccuracyMetric: 0.9214\n"
          ],
          "name": "stdout"
        },
        {
          "output_type": "execute_result",
          "data": {
            "text/plain": [
              "[0.2518233060836792,\n",
              " 0.020775852724909782,\n",
              " 0.021421391516923904,\n",
              " 0.016833465546369553,\n",
              " 0.21548640727996826,\n",
              " 0.9695624709129333,\n",
              " 0.8918609619140625,\n",
              " 0.042339082807302475,\n",
              " 0.9214407205581665]"
            ]
          },
          "metadata": {
            "tags": []
          },
          "execution_count": 32
        }
      ]
    },
    {
      "cell_type": "code",
      "metadata": {
        "colab_type": "code",
        "id": "iGh7CR3rWsmL",
        "colab": {}
      },
      "source": [
        "# quantized_model.metrics_names"
      ],
      "execution_count": 0,
      "outputs": []
    },
    {
      "cell_type": "code",
      "metadata": {
        "colab_type": "code",
        "id": "yLL-pRG4W1f9",
        "colab": {}
      },
      "source": [
        "l2_reg_fn = kd_utils.get_l2_loss_fn(l2_reg=1e-5, model=quantized_model)\n",
        "quantized_model.add_loss(l2_reg_fn)"
      ],
      "execution_count": 0,
      "outputs": []
    },
    {
      "cell_type": "code",
      "metadata": {
        "colab_type": "code",
        "id": "G9ICnzZcW8cn",
        "outputId": "b57e5ddf-c162-4a08-ae90-9cf7ec3ae1ff",
        "colab": {
          "base_uri": "https://localhost:8080/",
          "height": 146
        }
      },
      "source": [
        "optimizer = keras.optimizers.Adam(learning_rate=0.001, beta_2=0.995)\n",
        "quantized_model.compile(optimizer, **builder.get_model_compile_args())\n",
        "quantized_model.fit(prepared_train_dataset, epochs=5, steps_per_epoch=500)\n",
        "quantized_model.save_weights(\"models/quantized-model.h5\")"
      ],
      "execution_count": 35,
      "outputs": [
        {
          "output_type": "stream",
          "text": [
            "Epoch 1/3\n",
            "500/500 [==============================] - 56s 112ms/step - loss: 0.1006 - fm28x28/objectness_loss: 0.0169 - fm28x28/box_shape_loss: 0.0058 - fm28x28/classes_loss: 0.0114 - fm28x28/objectness_ObjectnessPrecisionAT20pc: 0.2350 - fm28x28/objectness_ObjectnessRecallAT20pc: 0.9735 - fm28x28/objectness_ObjectnessPositivesMeanScore: 0.9417 - fm28x28/objectness_ObjectnessNegativesMeanScore: 0.0401 - fm28x28/classes_MulticlassAccuracyMetric: 0.9489\n",
            "Epoch 2/3\n",
            "500/500 [==============================] - 56s 112ms/step - loss: 0.0968 - fm28x28/objectness_loss: 0.0171 - fm28x28/box_shape_loss: 0.0054 - fm28x28/classes_loss: 0.0112 - fm28x28/objectness_ObjectnessPrecisionAT20pc: 0.2366 - fm28x28/objectness_ObjectnessRecallAT20pc: 0.9729 - fm28x28/objectness_ObjectnessPositivesMeanScore: 0.9410 - fm28x28/objectness_ObjectnessNegativesMeanScore: 0.0395 - fm28x28/classes_MulticlassAccuracyMetric: 0.9488\n",
            "Epoch 3/3\n",
            "500/500 [==============================] - 56s 112ms/step - loss: 0.0946 - fm28x28/objectness_loss: 0.0170 - fm28x28/box_shape_loss: 0.0052 - fm28x28/classes_loss: 0.0111 - fm28x28/objectness_ObjectnessPrecisionAT20pc: 0.2385 - fm28x28/objectness_ObjectnessRecallAT20pc: 0.9729 - fm28x28/objectness_ObjectnessPositivesMeanScore: 0.9415 - fm28x28/objectness_ObjectnessNegativesMeanScore: 0.0394 - fm28x28/classes_MulticlassAccuracyMetric: 0.9495\n"
          ],
          "name": "stdout"
        }
      ]
    },
    {
      "cell_type": "code",
      "metadata": {
        "colab_type": "code",
        "id": "i-bfHTuyXCVJ",
        "colab": {}
      },
      "source": [
        ""
      ],
      "execution_count": 0,
      "outputs": []
    },
    {
      "cell_type": "code",
      "metadata": {
        "colab_type": "code",
        "id": "BadxD3yRYd2W",
        "colab": {}
      },
      "source": [
        "quantized_model.load_weights(\"models/quantized-model.h5\")"
      ],
      "execution_count": 0,
      "outputs": []
    },
    {
      "cell_type": "code",
      "metadata": {
        "colab_type": "code",
        "id": "chDvqgHBYgIM",
        "outputId": "d826bdf6-775c-4efc-8be9-9b07b73a5125",
        "colab": {
          "base_uri": "https://localhost:8080/",
          "height": 334
        }
      },
      "source": [
        "# features, labels = next(iter(prepared_train_dataset))\n",
        "draw_predictions(quantized_model, features, labels, fm = \"fm28x28\")"
      ],
      "execution_count": 36,
      "outputs": [
        {
          "output_type": "execute_result",
          "data": {
            "image/png": "[encoded data removed]",
            "text/plain": [
              "<PIL.Image.Image image mode=RGBA size=1800x360 at 0x7FA072C01320>"
            ]
          },
          "metadata": {
            "tags": []
          },
          "execution_count": 36
        }
      ]
    },
    {
      "cell_type": "code",
      "metadata": {
        "colab_type": "code",
        "id": "Obb5WPIWY5Qr",
        "colab": {}
      },
      "source": [
        ""
      ],
      "execution_count": 0,
      "outputs": []
    },
    {
      "cell_type": "code",
      "metadata": {
        "colab_type": "code",
        "id": "OSQsJ5g9Y8JT",
        "outputId": "f92107ef-752d-4a04-c982-675fa8af03a9",
        "colab": {
          "base_uri": "https://localhost:8080/",
          "height": 219
        }
      },
      "source": [
        "builder.evaluate_model(quantized_model, train_dataset, 100)"
      ],
      "execution_count": 37,
      "outputs": [
        {
          "output_type": "stream",
          "text": [
            "100/100 [==============================] - 10s 101ms/step - loss: 0.1214 - fm28x28/objectness_loss: 0.0181 - fm28x28/box_shape_loss: 0.0076 - fm28x28/classes_loss: 0.0130 - fm28x28/objectness_ObjectnessPrecisionAT20pc: 0.2115 - fm28x28/objectness_ObjectnessRecallAT20pc: 0.9788 - fm28x28/objectness_ObjectnessPositivesMeanScore: 0.9588 - fm28x28/objectness_ObjectnessNegativesMeanScore: 0.0462 - fm28x28/classes_MulticlassAccuracyMetric: 0.9465\n"
          ],
          "name": "stdout"
        },
        {
          "output_type": "execute_result",
          "data": {
            "text/plain": [
              "[0.12138097733259201,\n",
              " 0.018140725791454315,\n",
              " 0.0075699277222156525,\n",
              " 0.012965776957571507,\n",
              " 0.21153967082500458,\n",
              " 0.9788275957107544,\n",
              " 0.9587920904159546,\n",
              " 0.046221569180488586,\n",
              " 0.9464772939682007]"
            ]
          },
          "metadata": {
            "tags": []
          },
          "execution_count": 37
        }
      ]
    },
    {
      "cell_type": "code",
      "metadata": {
        "colab_type": "code",
        "id": "iDL3lO8XZzQQ",
        "outputId": "ccbf837a-d541-46e9-8f46-8bb75d75bd04",
        "colab": {
          "base_uri": "https://localhost:8080/",
          "height": 1000
        }
      },
      "source": [
        "# creates two versions of the model:  \n",
        "#  - models/quantized-model.tflite\n",
        "\n",
        "exported_model, quantized_tflite_models_paths = builder.convert_to_tflite(    \n",
        "    quantized_model, \n",
        "    save_path=\"models/quantized-model.tflite\", \n",
        "    export_batch_size = 1,\n",
        "    raw_dataset = dataset,  # dataset to the test the stats between \n",
        "    num_dataset_samples = 32, # representative dataset number of samples\n",
        "    num_test_steps = 16, # number of images used to test output statistics\n",
        "    merge_feature_maps=True,  # merge FPN feature maps into single tensor of shape [1, num_anchors, num_outputs]\n",
        "    postprocess_outputs=True,  # apply post processing on head outputs e.g. decode box coordinates to [height, width, y_center, x_center]\n",
        "    convert_quantized_model=False # full integer quantization  does not work with QAT models\n",
        ")"
      ],
      "execution_count": 42,
      "outputs": [
        {
          "output_type": "stream",
          "text": [
            "INFO:tensorflow:Preparing dataset for export of quantized model\n",
            "INFO:tensorflow:Merging feature maps\n",
            "INFO:tensorflow:Export outputs\n",
            "INFO:tensorflow:- objectness           - Tensor(\"objectness_3/Identity:0\", shape=(1, 784), dtype=float32)\n",
            "INFO:tensorflow:- box_shape            - Tensor(\"box_shape_3/Identity:0\", shape=(1, 784, 4), dtype=float32)\n",
            "INFO:tensorflow:- classes              - Tensor(\"classes_3/Identity:0\", shape=(1, 784, 9), dtype=float32)\n",
            "INFO:tensorflow:Exporting model\n",
            "INFO:tensorflow:Converting model to tflite format \n",
            "INFO:tensorflow:Building TFLite model from Keras Model using optimizations: [<Optimize.DEFAULT: 'DEFAULT'>]\n",
            "INFO:tensorflow:Model converted successfully \n",
            "INFO:tensorflow:Testing tflite model for N=1 iterations ..\n",
            "Input details:\n",
            "{ 'dtype': <class 'numpy.float32'>,\n",
            "  'index': 0,\n",
            "  'name': 'image',\n",
            "  'quantization': (0.0, 0),\n",
            "  'quantization_parameters': { 'quantized_dimension': 0,\n",
            "                               'scales': array([], dtype=float32),\n",
            "                               'zero_points': array([], dtype=int32)},\n",
            "  'shape': array([  1, 224, 224,   3], dtype=int32),\n",
            "  'shape_signature': array([  1, 224, 224,   3], dtype=int32),\n",
            "  'sparsity_parameters': {}}\n",
            "Output details:\n",
            "{ 'dtype': <class 'numpy.float32'>,\n",
            "  'index': 98,\n",
            "  'name': 'export/box_shape/output',\n",
            "  'quantization': (0.0, 0),\n",
            "  'quantization_parameters': { 'quantized_dimension': 0,\n",
            "                               'scales': array([], dtype=float32),\n",
            "                               'zero_points': array([], dtype=int32)},\n",
            "  'shape': array([  1, 784,   4], dtype=int32),\n",
            "  'shape_signature': array([  1, 784,   4], dtype=int32),\n",
            "  'sparsity_parameters': {}}\n",
            "{ 'dtype': <class 'numpy.float32'>,\n",
            "  'index': 103,\n",
            "  'name': 'export/classes/output',\n",
            "  'quantization': (0.0, 0),\n",
            "  'quantization_parameters': { 'quantized_dimension': 0,\n",
            "                               'scales': array([], dtype=float32),\n",
            "                               'zero_points': array([], dtype=int32)},\n",
            "  'shape': array([  1, 784,   9], dtype=int32),\n",
            "  'shape_signature': array([  1, 784,   9], dtype=int32),\n",
            "  'sparsity_parameters': {}}\n",
            "{ 'dtype': <class 'numpy.float32'>,\n",
            "  'index': 108,\n",
            "  'name': 'export/objectness/output',\n",
            "  'quantization': (0.0, 0),\n",
            "  'quantization_parameters': { 'quantized_dimension': 0,\n",
            "                               'scales': array([], dtype=float32),\n",
            "                               'zero_points': array([], dtype=int32)},\n",
            "  'shape': array([  1, 784], dtype=int32),\n",
            "  'shape_signature': array([  1, 784], dtype=int32),\n",
            "  'sparsity_parameters': {}}\n",
            "INFO:tensorflow:Test finished in 0.065775 seconds\n",
            "INFO:tensorflow:Model saved to models/quantized-model.tflite\n",
            "INFO:tensorflow:Testing converted model: quantized-model.tflite\n",
            "INFO:tensorflow:Testing converted model: quantized-model.tflite\n"
          ],
          "name": "stdout"
        },
        {
          "output_type": "stream",
          "text": [
            "100%|██████████| 16/16 [00:01<00:00,  8.72it/s]"
          ],
          "name": "stderr"
        },
        {
          "output_type": "stream",
          "text": [
            "INFO:tensorflow:Measured deviation between keras and tflite model:\n",
            "INFO:tensorflow:\n",
            " - export/objectness/output  \n",
            "\tMAE     =  0.001198 \n",
            "\tRMSE    =  0.005807 \n",
            "\tKeras   = N(μ=  0.068794, σ=  0.225295)\n",
            "\ttflite  = N(μ=  0.069031, σ=  0.225529)\n",
            " - export/box_shape/output   \n",
            "\tMAE     =  0.000708 \n",
            "\tRMSE    =  0.000969 \n",
            "\tKeras   = N(μ=  0.289126, σ=  0.294180)\n",
            "\ttflite  = N(μ=  0.289334, σ=  0.294117)\n",
            " - export/classes/output     \n",
            "\tMAE     =  0.000044 \n",
            "\tRMSE    =  0.000874 \n",
            "\tKeras   = N(μ=  0.001729, σ=  0.037579)\n",
            "\ttflite  = N(μ=  0.001753, σ=  0.037619)\n"
          ],
          "name": "stdout"
        },
        {
          "output_type": "stream",
          "text": [
            "\n"
          ],
          "name": "stderr"
        }
      ]
    },
    {
      "cell_type": "markdown",
      "metadata": {
        "id": "9iAPy6TTelV9",
        "colab_type": "text"
      },
      "source": [
        "# Benchmark models"
      ]
    },
    {
      "cell_type": "code",
      "metadata": {
        "id": "vHw7cfmfgMU7",
        "colab_type": "code",
        "colab": {}
      },
      "source": [
        "import keras_detection.evaluation.detection_metrics as det_metrics\n",
        "from keras_detection.ops.python_ops import map_nested_dict\n",
        "from pathlib import Path"
      ],
      "execution_count": 0,
      "outputs": []
    },
    {
      "cell_type": "code",
      "metadata": {
        "id": "5QDw9dTEeaP-",
        "colab_type": "code",
        "colab": {}
      },
      "source": [
        "all_tflite_paths = [\n",
        "  Path('models/non-quantized-model.tflite'), # from Keras model\n",
        "  Path('models/non-quantized-model.quantized.tflite'), # full post train quantization from Keras model\n",
        "  Path('models/quantized-model.tflite'), # from QAT model\n",
        "  Path('models/quantized-model.h5') # a keras model \n",
        "]"
      ],
      "execution_count": 0,
      "outputs": []
    },
    {
      "cell_type": "code",
      "metadata": {
        "colab_type": "code",
        "id": "Nml5SEHFaA2U",
        "colab": {
          "base_uri": "https://localhost:8080/",
          "height": 235
        },
        "outputId": "e590aeb7-6aca-487d-b304-7f20c539e441"
      },
      "source": [
        "path = all_tflite_paths[-1]\n",
        "box_detector = builder.as_box_detector(path, is_quantized=True)"
      ],
      "execution_count": 22,
      "outputs": [
        {
          "output_type": "stream",
          "text": [
            "INFO:tensorflow:Building quantized model with batch_size = None\n",
            "INFO:tensorflow:Building graph with quantization enabled\n",
            "INFO:tensorflow:Input image: (None, 224, 224, 3)\n",
            "INFO:tensorflow:Processing backbone: <keras_detection.backbones.resnet.ResNetBackbone object at 0x7f8ca01a9ac8>\n",
            "INFO:tensorflow:Running quantization for model backbone: model\n",
            "INFO:tensorflow:Processing feature maps for tasks: ['objectness', 'box_shape', 'classes']\n",
            "INFO:tensorflow: Processing feature map (fm28x28)\n",
            "INFO:tensorflow:Merging feature maps\n",
            "INFO:tensorflow:Export outputs\n",
            "INFO:tensorflow:- objectness           - Tensor(\"objectness/Identity:0\", shape=(None, 784), dtype=float32)\n",
            "INFO:tensorflow:- box_shape            - Tensor(\"box_shape/Identity:0\", shape=(None, 784, 4), dtype=float32)\n",
            "INFO:tensorflow:- classes              - Tensor(\"classes/Identity:0\", shape=(None, 784, 9), dtype=float32)\n"
          ],
          "name": "stdout"
        }
      ]
    },
    {
      "cell_type": "code",
      "metadata": {
        "id": "-uBm9LkPdt5X",
        "colab_type": "code",
        "colab": {
          "base_uri": "https://localhost:8080/",
          "height": 449
        },
        "outputId": "7aff9fd2-4a43-4654-8996-31ed56e0c1af"
      },
      "source": [
        "# Test on single prediction\n",
        "train_dataset_iterator = iter(train_dataset)\n",
        "batch_data = map_nested_dict(next(train_dataset_iterator), lambda x: x.numpy())\n",
        "idx = 0\n",
        "image_data = ImageData.from_dict(batch_data)\n",
        "predictions = box_detector.predict(image_data.features.image)\n",
        "predictions[idx].draw(image=image_data.features.image[idx], fontsize=20)"
      ],
      "execution_count": 23,
      "outputs": [
        {
          "output_type": "execute_result",
          "data": {
            "image/png": "[encoded data removed]",
            "text/plain": [
              "<PIL.PngImagePlugin.PngImageFile image mode=RGBA size=432x432 at 0x7F8C8A693AC8>"
            ]
          },
          "metadata": {
            "tags": []
          },
          "execution_count": 23
        }
      ]
    },
    {
      "cell_type": "markdown",
      "metadata": {
        "id": "jOm1qVIZm1eN",
        "colab_type": "text"
      },
      "source": [
        "## Collecting metrics for few batches"
      ]
    },
    {
      "cell_type": "code",
      "metadata": {
        "id": "ziGoJAkud-_r",
        "colab_type": "code",
        "colab": {
          "base_uri": "https://localhost:8080/",
          "height": 763
        },
        "outputId": "b90ac2e8-388b-47a9-8f00-33dd8d5af902"
      },
      "source": [
        "from collections import defaultdict\n",
        "\n",
        "num_batches_to_test = 5\n",
        "iou_threshold = 0.5\n",
        "test_models = {str(path): builder.as_box_detector(path, is_quantized=True) for path in all_tflite_paths}\n",
        "test_models_metrics = defaultdict(list)\n",
        "\n",
        "print(f\"Test models: {test_models.keys()}\")\n",
        "\n",
        "for i in range(num_batches_to_test):\n",
        "  print(\"Testing batch: \", i)\n",
        "  batch_data = map_nested_dict(next(train_dataset_iterator), lambda x: x.numpy())\n",
        "  image_data = ImageData.from_dict(batch_data)\n",
        "\n",
        "  for k, predictor in test_models.items():\n",
        "    print(f\" => Predicting: {k}\")\n",
        "    predictions_per_image = predictor.predict(image_data.features.image)\n",
        "    targets_per_image = image_data.labels.unbatch()\n",
        "    \n",
        "    metrics = []\n",
        "    for target, predicted in zip(targets_per_image, predictions_per_image):\n",
        "      metrics += det_metrics.image_localization_metrics(\n",
        "          target=target, predicted=predicted.to_labels_frame(), \n",
        "          iou_threshold=iou_threshold\n",
        "      )\n",
        "    test_models_metrics[k] += metrics"
      ],
      "execution_count": 27,
      "outputs": [
        {
          "output_type": "stream",
          "text": [
            "INFO:tensorflow:Building box predictor for TFLite model\n",
            "INFO:tensorflow:Building box predictor for TFLite model\n",
            "INFO:tensorflow:Building box predictor for TFLite model\n",
            "INFO:tensorflow:Building quantized model with batch_size = None\n",
            "INFO:tensorflow:Building graph with quantization enabled\n",
            "INFO:tensorflow:Input image: (None, 224, 224, 3)\n",
            "INFO:tensorflow:Processing backbone: <keras_detection.backbones.resnet.ResNetBackbone object at 0x7f8ca01a9ac8>\n",
            "INFO:tensorflow:Running quantization for model backbone: model\n",
            "INFO:tensorflow:Processing feature maps for tasks: ['objectness', 'box_shape', 'classes']\n",
            "INFO:tensorflow: Processing feature map (fm28x28)\n",
            "INFO:tensorflow:Merging feature maps\n",
            "INFO:tensorflow:Export outputs\n",
            "INFO:tensorflow:- objectness           - Tensor(\"objectness_2/Identity:0\", shape=(None, 784), dtype=float32)\n",
            "INFO:tensorflow:- box_shape            - Tensor(\"box_shape_2/Identity:0\", shape=(None, 784, 4), dtype=float32)\n",
            "INFO:tensorflow:- classes              - Tensor(\"classes_2/Identity:0\", shape=(None, 784, 9), dtype=float32)\n",
            "Test models: dict_keys(['models/non-quantized-model.tflite', 'models/non-quantized-model.quantized.tflite', 'models/quantized-model.tflite', 'models/quantized-model.h5'])\n",
            "Testing batch:  0\n",
            " => Predicting: models/non-quantized-model.tflite\n",
            " => Predicting: models/non-quantized-model.quantized.tflite\n",
            " => Predicting: models/quantized-model.tflite\n",
            " => Predicting: models/quantized-model.h5\n",
            "Testing batch:  1\n",
            " => Predicting: models/non-quantized-model.tflite\n",
            " => Predicting: models/non-quantized-model.quantized.tflite\n",
            " => Predicting: models/quantized-model.tflite\n",
            " => Predicting: models/quantized-model.h5\n",
            "Testing batch:  2\n",
            " => Predicting: models/non-quantized-model.tflite\n",
            " => Predicting: models/non-quantized-model.quantized.tflite\n",
            " => Predicting: models/quantized-model.tflite\n",
            " => Predicting: models/quantized-model.h5\n",
            "Testing batch:  3\n",
            " => Predicting: models/non-quantized-model.tflite\n",
            " => Predicting: models/non-quantized-model.quantized.tflite\n",
            " => Predicting: models/quantized-model.tflite\n",
            " => Predicting: models/quantized-model.h5\n",
            "Testing batch:  4\n",
            " => Predicting: models/non-quantized-model.tflite\n",
            " => Predicting: models/non-quantized-model.quantized.tflite\n",
            " => Predicting: models/quantized-model.tflite\n",
            " => Predicting: models/quantized-model.h5\n"
          ],
          "name": "stdout"
        }
      ]
    },
    {
      "cell_type": "code",
      "metadata": {
        "id": "1l2I8mExfa9F",
        "colab_type": "code",
        "colab": {
          "base_uri": "https://localhost:8080/",
          "height": 198
        },
        "outputId": "92939258-dae6-483f-9065-310e011105d8"
      },
      "source": [
        "import pandas as pd\n",
        "\n",
        "data = defaultdict(list)\n",
        "for model_name, metrics in test_models_metrics.items():\n",
        "  for m in det_metrics.aggregate_metrics(metrics):\n",
        "    data[m.name].append(m.value)\n",
        "  data[\"model\"].append(model_name)\n",
        "pd.DataFrame(data).set_index(\"model\")"
      ],
      "execution_count": 29,
      "outputs": [
        {
          "output_type": "execute_result",
          "data": {
            "text/html": [
              "<div>\n",
              "<style scoped>\n",
              "    .dataframe tbody tr th:only-of-type {\n",
              "        vertical-align: middle;\n",
              "    }\n",
              "\n",
              "    .dataframe tbody tr th {\n",
              "        vertical-align: top;\n",
              "    }\n",
              "\n",
              "    .dataframe thead th {\n",
              "        text-align: right;\n",
              "    }\n",
              "</style>\n",
              "<table border=\"1\" class=\"dataframe\">\n",
              "  <thead>\n",
              "    <tr style=\"text-align: right;\">\n",
              "      <th></th>\n",
              "      <th>localization@0.5/precision</th>\n",
              "      <th>localization@0.5/recall</th>\n",
              "      <th>localization@0.5/f1_score</th>\n",
              "    </tr>\n",
              "    <tr>\n",
              "      <th>model</th>\n",
              "      <th></th>\n",
              "      <th></th>\n",
              "      <th></th>\n",
              "    </tr>\n",
              "  </thead>\n",
              "  <tbody>\n",
              "    <tr>\n",
              "      <th>models/non-quantized-model.tflite</th>\n",
              "      <td>0.867815</td>\n",
              "      <td>0.941396</td>\n",
              "      <td>0.898998</td>\n",
              "    </tr>\n",
              "    <tr>\n",
              "      <th>models/non-quantized-model.quantized.tflite</th>\n",
              "      <td>0.853812</td>\n",
              "      <td>0.935535</td>\n",
              "      <td>0.888767</td>\n",
              "    </tr>\n",
              "    <tr>\n",
              "      <th>models/quantized-model.tflite</th>\n",
              "      <td>0.812741</td>\n",
              "      <td>0.937666</td>\n",
              "      <td>0.865307</td>\n",
              "    </tr>\n",
              "    <tr>\n",
              "      <th>models/quantized-model.h5</th>\n",
              "      <td>0.817115</td>\n",
              "      <td>0.939265</td>\n",
              "      <td>0.868612</td>\n",
              "    </tr>\n",
              "  </tbody>\n",
              "</table>\n",
              "</div>"
            ],
            "text/plain": [
              "                                             localization@0.5/precision  ...  localization@0.5/f1_score\n",
              "model                                                                    ...                           \n",
              "models/non-quantized-model.tflite                              0.867815  ...                   0.898998\n",
              "models/non-quantized-model.quantized.tflite                    0.853812  ...                   0.888767\n",
              "models/quantized-model.tflite                                  0.812741  ...                   0.865307\n",
              "models/quantized-model.h5                                      0.817115  ...                   0.868612\n",
              "\n",
              "[4 rows x 3 columns]"
            ]
          },
          "metadata": {
            "tags": []
          },
          "execution_count": 29
        }
      ]
    },
    {
      "cell_type": "code",
      "metadata": {
        "id": "VQFu7837lW8q",
        "colab_type": "code",
        "colab": {}
      },
      "source": [
        ""
      ],
      "execution_count": 0,
      "outputs": []
    }
  ]
}